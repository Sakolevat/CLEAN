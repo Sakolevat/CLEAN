{
 "cells": [
  {
   "cell_type": "code",
   "execution_count": 9,
   "metadata": {},
   "outputs": [
    {
     "name": "stdout",
     "output_type": "stream",
     "text": [
      "91.786\n",
      "94.146\n"
     ]
    }
   ],
   "source": [
    "M8 =pd.read_csv('./blast_out/price.m8',sep='\\t')\n",
    "for similarity in list(M8['51.378']):\n",
    "    if similarity > 90:\n",
    "        print(similarity)"
   ]
  },
  {
   "cell_type": "code",
   "execution_count": 3,
   "metadata": {},
   "outputs": [],
   "source": [
    "import pandas as pd\n",
    "from helper.utils import *\n",
    "from helper.model import *\n",
    "from helper.distance_map import *\n",
    "from helper.evaluate import *\n",
    "id_ec_dict, ec_id_dict = get_ec_id_dict_non_prom(\n",
    "    './data/uniref100_full.csv')\n",
    "ECs = list(ec_id_dict.keys())"
   ]
  },
  {
   "cell_type": "code",
   "execution_count": 10,
   "metadata": {},
   "outputs": [],
   "source": [
    "data=pd.read_csv('data/price172.tsv',sep='\\t')\n",
    "Entry = []\n",
    "EC_number = []\n",
    "seq = []\n",
    "df = data[['protein_id', 'new_annotation', 'protein_sequence']]\n",
    "for idx, row in df.iterrows():\n",
    "    entry = row['protein_id'].split('.')[0]\n",
    "    ecs = row['new_annotation'].split('(')[1].split(')')[0].replace('EC ', '').replace(' ', '')\n",
    "    ec_to_add = []\n",
    "    for ec in ecs.split(';'):\n",
    "        if ec in ECs:\n",
    "            ec_to_add.append(ec)\n",
    "    if len(ec_to_add) == 1:\n",
    "        ec_str = ec_to_add[0]     \n",
    "    elif len(ec_to_add) > 1:\n",
    "        ec_str = ''\n",
    "        for ec in ec_to_add:\n",
    "            ec_str = ec_str + ec \n",
    "            if ec != ec_to_add[-1]:\n",
    "                ec_str = ec_str + ';'\n",
    "            \n",
    "    if len(ec_to_add) != 0:\n",
    "        Entry.append(entry)\n",
    "        EC_number.append(ec_str)\n",
    "        seq.append(row['protein_sequence'])\n"
   ]
  },
  {
   "cell_type": "code",
   "execution_count": 11,
   "metadata": {},
   "outputs": [],
   "source": [
    "new_df = pd.DataFrame(list(zip(Entry, EC_number, seq)), columns =['Entry', 'EC number', 'Sequence'])    \n",
    "new_df.to_csv('list.csv', index=False, sep='\\t')\n"
   ]
  },
  {
   "cell_type": "code",
   "execution_count": 2,
   "metadata": {},
   "outputs": [],
   "source": [
    "import os\n",
    "import csv\n",
    "\n",
    "def csv_to_fasta(csv_name, fasta_name):\n",
    "    csvfile = open(csv_name, 'r')\n",
    "    csvreader = csv.reader(csvfile, delimiter='\\t')\n",
    "    outfile = open(fasta_name, 'w')\n",
    "    for i, rows in enumerate(csvreader):\n",
    "        if i > 0:\n",
    "            outfile.write('>' + rows[0] + '\\n')\n",
    "            outfile.write(rows[2] + '\\n')\n",
    "\n",
    "csv_name = \"./data/price_149.csv\"    \n",
    "fasta_name = \"./data/fasta/price_149.fasta\" \n",
    "csv_to_fasta(csv_name, fasta_name)"
   ]
  },
  {
   "cell_type": "code",
   "execution_count": 19,
   "metadata": {},
   "outputs": [],
   "source": [
    "import os\n",
    "import csv\n",
    "\n",
    "def csv_to_fasta(csv_name, fasta_name):\n",
    "    csvfile = open(csv_name, 'r')\n",
    "    csvreader = csv.reader(csvfile, delimiter='\\t')\n",
    "    outfile = open(fasta_name, 'w')\n",
    "    for i, rows in enumerate(csvreader):\n",
    "        if i > 0:\n",
    "            outfile.write('>' + rows[0] + '\\n')\n",
    "            outfile.write(rows[2] + '\\n')\n",
    "\n",
    "# csv_name = \"../data/uniref10_test_split_0_curate.csv\"    \n",
    "# fasta_name = \"../data/uniref10_test_split_0_curate.fasta\" \n",
    "for i in range(5):      \n",
    "    csv_name = \"../data/uniref70/uniref70_test_split_\"+str(i)+\"_curate.csv\"    \n",
    "    fasta_name = \"../data/uniref70/uniref70_test_split_\"+str(i)+\"_curate.fasta\"  \n",
    "    csv_to_fasta(csv_name, fasta_name)\n",
    "    \n",
    "import os\n",
    "import csv\n",
    "\n",
    "def csv_to_fasta(csv_name, fasta_name):\n",
    "    csvfile = open(csv_name, 'r')\n",
    "    csvreader = csv.reader(csvfile, delimiter='\\t')\n",
    "    outfile = open(fasta_name, 'w')\n",
    "    for i, rows in enumerate(csvreader):\n",
    "        if i > 0:\n",
    "            outfile.write('>' + rows[0] + '\\n')\n",
    "            outfile.write(rows[2] + '\\n')\n",
    "\n",
    "# csv_name = \"../data/uniref10_test_split_0_curate.csv\"    \n",
    "# fasta_name = \"../data/uniref10_test_split_0_curate.fasta\" \n",
    "for i in range(5):      \n",
    "    csv_name = \"../data/uniref10/uniref10_train_split_\"+str(i)+\".csv\"    \n",
    "    fasta_name = \"../data/uniref10/uniref10_train_split_\"+str(i)+\".fasta\"  \n",
    "    csv_to_fasta(csv_name, fasta_name)\n",
    "    \n",
    "#blastp -query price_149.fasta -db ../fasta/train_ec5238_seq227358.fasta -out ../../blast_out/price.m8 -outfmt 6 -task blastp-fast\n",
    "\n"
   ]
  }
 ],
 "metadata": {
  "interpreter": {
   "hash": "386218770bb7053658aedbdb94aaaba888065d92b04918111f39a883f4943438"
  },
  "kernelspec": {
   "display_name": "Python 3.8.5 ('base')",
   "language": "python",
   "name": "python3"
  },
  "language_info": {
   "codemirror_mode": {
    "name": "ipython",
    "version": 3
   },
   "file_extension": ".py",
   "mimetype": "text/x-python",
   "name": "python",
   "nbconvert_exporter": "python",
   "pygments_lexer": "ipython3",
   "version": "3.8.5"
  },
  "orig_nbformat": 4
 },
 "nbformat": 4,
 "nbformat_minor": 2
}
