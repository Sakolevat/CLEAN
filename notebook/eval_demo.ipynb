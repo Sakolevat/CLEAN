{
 "cells": [
  {
   "cell_type": "markdown",
   "metadata": {},
   "source": [
    "## Demo for maximum separation algorithm, naive implementation"
   ]
  },
  {
   "cell_type": "code",
   "execution_count": 2,
   "metadata": {},
   "outputs": [
    {
     "name": "stdout",
     "output_type": "stream",
     "text": [
      "[ True  True False False False False False False False]\n"
     ]
    },
    {
     "data": {
      "text/plain": [
       "[<matplotlib.lines.Line2D at 0x23506391430>]"
      ]
     },
     "execution_count": 2,
     "metadata": {},
     "output_type": "execute_result"
    },
    {
     "data": {
      "image/png": "[encoded data removed]",
      "text/plain": [
       "<Figure size 432x288 with 1 Axes>"
      ]
     },
     "metadata": {
      "needs_background": "light"
     },
     "output_type": "display_data"
    }
   ],
   "source": [
    "import numpy as np\n",
    "import matplotlib.pyplot as plt\n",
    "\n",
    "dist_lst = np.array([10.835903, 12.665637, 13.622241, 13.987042, 14.00506,\n",
    "                     14.2629175, 14.51813, 14.659249, 14.697769, 14.757356])\n",
    "# approximate the background noise distance with dist_1...dist_9 with\n",
    "# dist_9 repeated 10 times since the last distance's EC will never be called\n",
    "gamma = np.append(dist_lst[1:], np.repeat(dist_lst[-1], 10))\n",
    "\n",
    "sep_lst = np.abs(dist_lst - np.mean(gamma))\n",
    "\n",
    "sep_grad = []\n",
    "for i in range(9):\n",
    "    grad_i = np.abs(sep_lst[i+1] - sep_lst[i])\n",
    "    sep_grad.append(grad_i)\n",
    "\n",
    "print(sep_grad > np.mean(sep_grad))\n",
    "\n",
    "x = range(10)\n",
    "#plt.plot(x, dist_lst)\n",
    "plt.plot(x, sep_lst)\n",
    "# plt.yscale('log')\n"
   ]
  },
  {
   "cell_type": "code",
   "execution_count": 3,
   "metadata": {},
   "outputs": [
    {
     "name": "stdout",
     "output_type": "stream",
     "text": [
      "large grads: [False  True False False False False False False False]\n",
      "max_sep_i: 1\n"
     ]
    },
    {
     "data": {
      "text/plain": [
       "[<matplotlib.lines.Line2D at 0x2350859e160>]"
      ]
     },
     "execution_count": 3,
     "metadata": {},
     "output_type": "execute_result"
    },
    {
     "data": {
      "image/png": "[encoded data removed]",
      "text/plain": [
       "<Figure size 432x288 with 1 Axes>"
      ]
     },
     "metadata": {
      "needs_background": "light"
     },
     "output_type": "display_data"
    }
   ],
   "source": [
    "## speed up:\n",
    "## the dist lst comes from uniref10 test split 1, id C7C422, \n",
    "# and only the first should be chosen\n",
    "use_first_grad = True\n",
    "opt = 0 if use_first_grad else -1\n",
    "dist_lst = np.array([5.835903, 6.665637, 13.622241, 13.987042, 14.00506,\n",
    "                     14.2629175, 14.51813, 14.659249, 14.697769, 14.757356])\n",
    "gamma = np.append(dist_lst[1:], np.repeat(dist_lst[-1], 10))\n",
    "sep_lst = np.abs(dist_lst - np.mean(gamma))\n",
    "sep_grad = np.abs(sep_lst[:-1]-sep_lst[1:])\n",
    "# max_sep_i = np.argmax(sep_grad)\n",
    "large_grads = np.where(sep_grad > np.mean(sep_grad))\n",
    "max_sep_i = large_grads[-1][opt]\n",
    "print(\"large grads:\", sep_grad > np.mean(sep_grad))\n",
    "print(\"max_sep_i:\", max_sep_i)\n",
    "x = range(10)\n",
    "#plt.plot(x, dist_lst)\n",
    "plt.plot(x, sep_lst)\n",
    "# plt.yscale('log')"
   ]
  }
 ],
 "metadata": {
  "interpreter": {
   "hash": "386218770bb7053658aedbdb94aaaba888065d92b04918111f39a883f4943438"
  },
  "kernelspec": {
   "display_name": "Python 3.8.5 ('base')",
   "language": "python",
   "name": "python3"
  },
  "language_info": {
   "codemirror_mode": {
    "name": "ipython",
    "version": 3
   },
   "file_extension": ".py",
   "mimetype": "text/x-python",
   "name": "python",
   "nbconvert_exporter": "python",
   "pygments_lexer": "ipython3",
   "version": "3.8.5"
  },
  "orig_nbformat": 4
 },
 "nbformat": 4,
 "nbformat_minor": 2
}
