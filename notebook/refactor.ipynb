{
 "cells": [
  {
   "cell_type": "code",
   "execution_count": 1,
   "metadata": {},
   "outputs": [],
   "source": [
    "import pickle\n",
    "import torch\n",
    "import torch\n",
    "import pickle\n",
    "from model import Net\n",
    "from helper.utils import get_ec_id_dict, esm_embedding\n",
    "from helper.distance_map import get_dist_map\n",
    "import pandas as pd\n",
    "\n",
    "dtype = torch.float32\n",
    "device = torch.device(\"cuda\")\n"
   ]
  },
  {
   "cell_type": "code",
   "execution_count": 2,
   "metadata": {},
   "outputs": [],
   "source": [
    "args_model_name = \"uniref10_train_split_0\"\n",
    "args_hidden_dim = 512\n",
    "args_out_dim  = 128\n",
    "id_ec, ec_id_dict = get_ec_id_dict('./data/' + args_model_name + '.csv')\n",
    "ec_id = {key: list(ec_id_dict[key]) for key in ec_id_dict.keys()}\n",
    "dist_map = pickle.load( open('./data/distance_map/' + args_model_name + '.pkl', 'rb'))\n",
    "model = Net(args_hidden_dim, args_out_dim, device, dtype)\n",
    "checkpoint = torch.load('./model/uniref10_train_split_0_50.pth')\n",
    "model.load_state_dict(checkpoint)\n",
    "esm_emb = esm_embedding(ec_id_dict, device, dtype)"
   ]
  },
  {
   "cell_type": "code",
   "execution_count": null,
   "metadata": {},
   "outputs": [],
   "source": [
    "args_train_file = \"uniref10_train_split_0\"\n",
    "_, ec_id_dict = get_ec_id_dict('./data/' + args_train_file + '.csv')\n",
    "# use cpu and high precision by default\n",
    "device, dtype = torch.device(\"cpu\"), torch.float64\n",
    "esm_emb = esm_embedding(ec_id_dict, device, dtype)\n",
    "esm_dist = get_dist_map(ec_id_dict, esm_emb, device, dtype)\n",
    "esm_df = pd.DataFrame.from_dict(esm_dist)\n"
   ]
  },
  {
   "cell_type": "code",
   "execution_count": 6,
   "metadata": {},
   "outputs": [],
   "source": [
    "# pickle.dump(esm_dist, open('./data/distance_map/' +\n",
    "#             args_train_file + '.pkl', 'wb'))\n",
    "esm_df.to_csv('./data/distance_map/' + args_train_file + '_df.csv')\n"
   ]
  }
 ],
 "metadata": {
  "interpreter": {
   "hash": "386218770bb7053658aedbdb94aaaba888065d92b04918111f39a883f4943438"
  },
  "kernelspec": {
   "display_name": "Python 3.8.5 ('base')",
   "language": "python",
   "name": "python3"
  },
  "language_info": {
   "codemirror_mode": {
    "name": "ipython",
    "version": 3
   },
   "file_extension": ".py",
   "mimetype": "text/x-python",
   "name": "python",
   "nbconvert_exporter": "python",
   "pygments_lexer": "ipython3",
   "version": "3.8.5"
  },
  "orig_nbformat": 4
 },
 "nbformat": 4,
 "nbformat_minor": 2
}
