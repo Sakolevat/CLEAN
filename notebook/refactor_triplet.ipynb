{
 "cells": [
  {
   "cell_type": "code",
   "execution_count": 1,
   "metadata": {},
   "outputs": [],
   "source": [
    "import warnings\n",
    "def warn(*args, **kwargs):\n",
    "    pass\n",
    "warnings.warn = warn\n",
    "\n",
    "import pickle\n",
    "import torch\n",
    "import pickle\n",
    "import pandas as pd\n",
    "import csv\n",
    "from helper.model import Net\n",
    "from helper.utils import *\n",
    "from helper.distance_map import *\n",
    "from helper.evaluate import *\n",
    "from eval import *\n",
    "import numpy as np\n",
    "from sklearn.preprocessing import MultiLabelBinarizer\n",
    "from sklearn.metrics import precision_score, recall_score, \\\n",
    "    roc_auc_score, accuracy_score, f1_score, average_precision_score\n",
    "\n",
    "dtype = torch.float32\n",
    "device = torch.device(\"cuda\")"
   ]
  },
  {
   "cell_type": "markdown",
   "metadata": {},
   "source": [
    "### Use maximum separation to call EC"
   ]
  },
  {
   "cell_type": "code",
   "execution_count": 5,
   "metadata": {},
   "outputs": [
    {
     "name": "stdout",
     "output_type": "stream",
     "text": [
      "The embedding sizes for train and test: torch.Size([25584, 128]) torch.Size([5492, 128])\n"
     ]
    },
    {
     "name": "stderr",
     "output_type": "stream",
     "text": [
      "100%|██████████| 4223/4223 [00:00<00:00, 17559.39it/s]\n"
     ]
    },
    {
     "name": "stdout",
     "output_type": "stream",
     "text": [
      "Calculating eval distance map, between 5492 test ids and 4223 train EC cluster centers\n"
     ]
    },
    {
     "name": "stderr",
     "output_type": "stream",
     "text": [
      "5492it [00:04, 1172.25it/s]\n"
     ]
    },
    {
     "name": "stdout",
     "output_type": "stream",
     "text": [
      "---------------------------------------------------------------------------\n",
      ">>> mean rank: 2.060714896528134 | mean average precision:  0.86636 |\n",
      "---------------------------------------------------------------------------\n"
     ]
    }
   ],
   "source": [
    "args_model_name = \"uniref10_train_split_1_3200\"\n",
    "args_test_data = \"uniref10_test_split_1_curate\"\n",
    "args_train_data = \"uniref10_train_split_1\"\n",
    "\n",
    "args_hidden_dim = 512\n",
    "args_out_dim = 128\n",
    "id_ec_train, ec_id_dict_train = get_ec_id_dict(\n",
    "    './data/' + args_train_data + '.csv')\n",
    "id_ec_test, ec_id_dict_test = get_ec_id_dict(\n",
    "    './data/' + args_test_data + '.csv')\n",
    "\n",
    "model = Net(args_hidden_dim, args_out_dim, device, dtype)\n",
    "checkpoint = torch.load('./model/uniref10_train_split_1_3200.pth')\n",
    "model.load_state_dict(checkpoint)\n",
    "\n",
    "emb_train = model(esm_embedding(ec_id_dict_train, device, dtype))\n",
    "emb_test = model_embedding_test(id_ec_test, model, device, dtype)\n",
    "eval_dist = get_dist_map_test(\n",
    "    emb_train, emb_test, ec_id_dict_train, id_ec_test, device, dtype)\n",
    "eval_df = pd.DataFrame.from_dict(eval_dist)\n",
    "#eval_df.to_csv('./eval/distmap_' + args_test_data + '.csv')\n",
    "out_filename = './eval/' + args_test_data\n",
    "top10_dists = write_top10_choices(eval_df, out_filename)\n",
    "## maximum separation results\n",
    "write_max_sep_choices(eval_df, out_filename, first_grad=False, use_max_grad=False)\n",
    "## get preds and true labels\n",
    "pred_label = get_pred_labels(out_filename, pred_type='_top10')\n",
    "true_label, all_label = get_true_labels('./data/'+args_test_data)\n",
    "##\n",
    "mean_rank, map = get_MR_MAP(pred_label, true_label, top10_dists, penalty=11)\n",
    "print('-' * 75)\n",
    "print(f'>>> mean rank: {mean_rank} | mean average precision:  {map:.5} |')\n",
    "print('-' * 75)"
   ]
  },
  {
   "cell_type": "markdown",
   "metadata": {},
   "source": [
    "#### Use random nk samples to call EC"
   ]
  },
  {
   "cell_type": "code",
   "execution_count": 3,
   "metadata": {},
   "outputs": [
    {
     "name": "stdout",
     "output_type": "stream",
     "text": [
      "The embedding sizes for train and test: torch.Size([25584, 128]) torch.Size([5492, 128])\n"
     ]
    },
    {
     "name": "stderr",
     "output_type": "stream",
     "text": [
      "100%|██████████| 4223/4223 [00:00<00:00, 16858.40it/s]\n"
     ]
    },
    {
     "name": "stdout",
     "output_type": "stream",
     "text": [
      "Calculating eval distance map, between 5492 test ids and 4223 train EC cluster centers\n"
     ]
    },
    {
     "name": "stderr",
     "output_type": "stream",
     "text": [
      "5492it [00:04, 1335.60it/s]\n",
      "100%|██████████| 4223/4223 [00:00<00:00, 17131.76it/s]\n",
      "2000it [00:01, 1372.68it/s]\n",
      "100%|██████████| 5492/5492 [00:15<00:00, 349.46it/s]\n"
     ]
    }
   ],
   "source": [
    "args_model_name = \"uniref10_train_split_1_3200\"\n",
    "args_test_data = \"uniref10_test_split_1_curate\"\n",
    "args_train_data = \"uniref10_train_split_1\"\n",
    "\n",
    "args_hidden_dim = 512\n",
    "args_out_dim = 128\n",
    "id_ec_train, ec_id_dict_train = get_ec_id_dict(\n",
    "    './data/' + args_train_data + '.csv')\n",
    "id_ec_test, ec_id_dict_test = get_ec_id_dict(\n",
    "    './data/' + args_test_data + '.csv')\n",
    "\n",
    "model = Net(args_hidden_dim, args_out_dim, device, dtype)\n",
    "checkpoint = torch.load('./model/uniref10_train_split_1_3200.pth')\n",
    "model.load_state_dict(checkpoint)\n",
    "\n",
    "emb_train = model(esm_embedding(ec_id_dict_train, device, dtype))\n",
    "emb_test = model_embedding_test(id_ec_test, model, device, dtype)\n",
    "eval_dist = get_dist_map_test(\n",
    "    emb_train, emb_test, ec_id_dict_train, id_ec_test, device, dtype)\n",
    "eval_df = pd.DataFrame.from_dict(eval_dist)\n",
    "#eval_df.to_csv('./eval/distmap_' + args_test_data + '.csv')\n",
    "out_filename = './eval/' + args_test_data\n",
    "all_test_EC = write_top10_choices(eval_df, out_filename)\n",
    "seed_everything()\n",
    "rand_nk_ids, rand_nk_emb_train = random_nk_model(\n",
    "    id_ec_train, emb_train, n=2, weighted=False)\n",
    "random_nk_dist_map = get_random_nk_dist_map(\n",
    "    emb_train, rand_nk_emb_train, ec_id_dict_train, rand_nk_ids, device, dtype)\n",
    "write_random_nk_choices(\n",
    "    eval_df, out_filename, random_nk_dist_map, p_value=0.001)\n"
   ]
  },
  {
   "cell_type": "markdown",
   "metadata": {},
   "source": [
    "#### Training symmetric distance map refactor"
   ]
  },
  {
   "cell_type": "code",
   "execution_count": null,
   "metadata": {},
   "outputs": [],
   "source": [
    "args_model_name = \"uniref10_train_split_0\"\n",
    "args_hidden_dim = 512\n",
    "args_out_dim  = 128\n",
    "id_ec, ec_id_dict = get_ec_id_dict('./data/' + args_model_name + '.csv')\n",
    "ec_id = {key: list(ec_id_dict[key]) for key in ec_id_dict.keys()}\n",
    "dist_map = pickle.load( open('./data/distance_map/' + args_model_name + '.pkl', 'rb'))\n",
    "model = Net(args_hidden_dim, args_out_dim, device, dtype)\n",
    "checkpoint = torch.load('./model/uniref10_train_split_0_50.pth')\n",
    "model.load_state_dict(checkpoint)\n",
    "esm_emb = esm_embedding(ec_id_dict, device, dtype)"
   ]
  },
  {
   "cell_type": "code",
   "execution_count": null,
   "metadata": {},
   "outputs": [],
   "source": [
    "args_train_file = \"uniref10_train_split_0\"\n",
    "_, ec_id_dict = get_ec_id_dict('./data/' + args_train_file + '.csv')\n",
    "# use cpu and high precision by default\n",
    "device, dtype = torch.device(\"cpu\"), torch.float64\n",
    "esm_emb = esm_embedding(ec_id_dict, device, dtype)\n",
    "esm_dist = get_dist_map(ec_id_dict, esm_emb, device, dtype)\n",
    "esm_df = pd.DataFrame.from_dict(esm_dist)\n",
    "# pickle.dump(esm_dist, open('./data/distance_map/' +\n",
    "#             args_train_file + '.pkl', 'wb'))\n",
    "esm_df.to_csv('./data/distance_map/' + args_train_file + '_df.csv')"
   ]
  }
 ],
 "metadata": {
  "interpreter": {
   "hash": "386218770bb7053658aedbdb94aaaba888065d92b04918111f39a883f4943438"
  },
  "kernelspec": {
   "display_name": "Python 3.8.5 ('base')",
   "language": "python",
   "name": "python3"
  },
  "language_info": {
   "codemirror_mode": {
    "name": "ipython",
    "version": 3
   },
   "file_extension": ".py",
   "mimetype": "text/x-python",
   "name": "python",
   "nbconvert_exporter": "python",
   "pygments_lexer": "ipython3",
   "version": "3.8.5"
  },
  "orig_nbformat": 4
 },
 "nbformat": 4,
 "nbformat_minor": 2
}
