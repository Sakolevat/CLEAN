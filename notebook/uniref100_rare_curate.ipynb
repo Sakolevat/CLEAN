{
 "cells": [
  {
   "cell_type": "code",
   "execution_count": 1,
   "metadata": {},
   "outputs": [],
   "source": [
    "import sys\n",
    "sys.path.append('./')\n",
    "from helper.utils import *"
   ]
  },
  {
   "cell_type": "markdown",
   "metadata": {},
   "source": [
    "### Write full curate [1,5)"
   ]
  },
  {
   "cell_type": "code",
   "execution_count": 2,
   "metadata": {},
   "outputs": [],
   "source": [
    "id_splits = []\n",
    "for i in range(5):\n",
    "    id_ec, ec_id_dict = get_ec_id_dict(\n",
    "        './data/uniref100/uniref100_test_split_' + str(i) + '_curate.csv')\n",
    "    id_splits.append(list(id_ec.keys()))\n",
    "\n",
    "n_bins = 5\n",
    "out_writer_lst = []\n",
    "for bin in range(n_bins):\n",
    "    subset_file = './data/uniref100_curate_1to6_split'+ str(bin) + '.csv'\n",
    "    out_file = open(subset_file, 'w', newline='')\n",
    "    csvwriter = csv.writer(out_file, delimiter='\\t')\n",
    "    out_writer_lst.append(csvwriter)\n"
   ]
  },
  {
   "cell_type": "code",
   "execution_count": 3,
   "metadata": {},
   "outputs": [],
   "source": [
    "args_train_data = \"uniref100_full\"\n",
    "id_ec_tr, ec_id_dict_tr = get_ec_id_dict('./data/' + args_train_data + '.csv')\n",
    "csv_name = './data/' + args_train_data + '.csv'\n",
    "csv_file = open(csv_name)\n",
    "csvreader = csv.reader(csv_file, delimiter='\\t')\n",
    "\n",
    "out_name = './data/uniref100_curate_1to6.csv'\n",
    "out_file = open(out_name, 'w', newline='')\n",
    "csvwriter_full = csv.writer(out_file, delimiter='\\t')\n",
    "\n",
    "for i, row in enumerate(csvreader):\n",
    "    if i == 0:\n",
    "        for bin in range(n_bins):\n",
    "            out_writer_lst[bin].writerow(row)\n",
    "    else:\n",
    "        true_ec_lst = row[1].split(';')\n",
    "        id = row[0]\n",
    "        id_count_lst = [len(ec_id_dict_tr[ec]) for ec in true_ec_lst]\n",
    "        id_count_ec = np.max(id_count_lst)\n",
    "        if id_count_ec >= 1 and id_count_ec < 6:\n",
    "            for i in range(5):\n",
    "                if id in id_splits[i]:\n",
    "                    out_writer_lst[i].writerow(row)\n",
    "                    csvwriter_full.writerow(row)\n",
    "                    \n"
   ]
  }
 ],
 "metadata": {
  "kernelspec": {
   "display_name": "Python 3.8.8 64-bit",
   "language": "python",
   "name": "python3"
  },
  "language_info": {
   "codemirror_mode": {
    "name": "ipython",
    "version": 3
   },
   "file_extension": ".py",
   "mimetype": "text/x-python",
   "name": "python",
   "nbconvert_exporter": "python",
   "pygments_lexer": "ipython3",
   "version": "3.8.8"
  },
  "orig_nbformat": 4,
  "vscode": {
   "interpreter": {
    "hash": "9650cb4e16cdd4a8e8e2d128bf38d875813998db22a3c986335f89e0cb4d7bb2"
   }
  }
 },
 "nbformat": 4,
 "nbformat_minor": 2
}
