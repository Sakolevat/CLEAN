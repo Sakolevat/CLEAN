{
 "cells": [
  {
   "cell_type": "code",
   "execution_count": 96,
   "metadata": {},
   "outputs": [],
   "source": [
    "import csv\n",
    "import random\n",
    "import argparse\n",
    "import math\n",
    "import pickle\n",
    "import os\n",
    "import torch\n",
    "import numpy as np\n",
    "import timeit\n",
    "import torch\n",
    "import time\n",
    "import pickle\n",
    "from helper.dataloader import Dataset_with_mine_EC, Dataset_lookup\n",
    "from model import Net\n",
    "from helper.utils import get_ec_id_dict, mine_hard_negative, parse, seed_everything\n",
    "import torch.nn as nn\n",
    "from helper.distance_map import get_dist_map\n",
    "\n",
    "dtype = torch.float32; device = torch.device(\"cuda\")"
   ]
  },
  {
   "cell_type": "code",
   "execution_count": 36,
   "metadata": {},
   "outputs": [
    {
     "data": {
      "text/plain": [
       "<All keys matched successfully>"
      ]
     },
     "execution_count": 36,
     "metadata": {},
     "output_type": "execute_result"
    }
   ],
   "source": [
    "args_model_name = \"uniref10_train_split_0\"\n",
    "args_hidden_dim = 512\n",
    "args_out_dim  = 128\n",
    "id_ec, ec_id_dict = get_ec_id_dict('./data/' + args_model_name + '.csv')\n",
    "ec_id = {key: list(ec_id_dict[key]) for key in ec_id_dict.keys()}\n",
    "dist_map = pickle.load( open('./data/distance_map/' + args_model_name + '.pkl', 'rb'))\n",
    "model = Net(args_hidden_dim, args_out_dim, device, dtype)\n",
    "checkpoint = torch.load('./model/uniref10_train_split_0_50.pth')\n",
    "model.load_state_dict(checkpoint)"
   ]
  },
  {
   "cell_type": "code",
   "execution_count": 82,
   "metadata": {},
   "outputs": [],
   "source": [
    "def get_dist_map(out_dim, file_name, model=None):\n",
    "    \n",
    "    params = {'batch_size': 30000,\n",
    "              'shuffle': False,\n",
    "              'num_workers': 8}\n",
    "\n",
    "    counter = 0\n",
    "    cluster_center_esm = {}\n",
    "    with torch.no_grad():\n",
    "        _, ec_id_dict = get_ec_id_dict('./data/' + file_name + '.csv')\n",
    "        time_start = time.time()\n",
    "        total_ec_n = len(ec_id_dict.keys())\n",
    "\n",
    "        for ec in list(ec_id_dict.keys()):\n",
    "            # TODO: this if statement might be legacy code?\n",
    "            if ec.count('-') == 0:\n",
    "                counter += 1\n",
    "                if counter > 10 : break\n",
    "                valid_data = Dataset_lookup(list(ec_id_dict[ec]))\n",
    "                valid_loader = torch.utils.data.DataLoader(\n",
    "                    valid_data, **params)\n",
    "                for i, data in enumerate(valid_loader):\n",
    "                    if model != None:\n",
    "                        data = data.to(device=model.device, dtype=model.dtype)\n",
    "                        print(data.size())\n",
    "                        lookup = model(data)\n",
    "                    esm = torch.mean(lookup, dim=0)\n",
    "                    cluster_center_esm[ec] = esm.detach().cpu()\n",
    "                if counter % 2 == 0:\n",
    "                    elapsed = time.time() - time_start\n",
    "                    time_start = time.time()\n",
    "                    print(\n",
    "                        f'|Processing {counter:5d} out of {total_ec_n} |Time elapsed: {elapsed:5.2f} |')\n",
    "\n",
    "        esm_lookup = torch.randn(total_ec_n, out_dim)\n",
    "        ecs = list(cluster_center_esm.keys())\n",
    "        for i, ec in enumerate(ecs):\n",
    "            esm_lookup[i] = cluster_center_esm[ec]\n",
    "        esm_lookup = esm_lookup.to(device)\n",
    "        esm_dist = {}\n",
    "        time_start = time.time()\n",
    "        for i, ec in enumerate(ecs):\n",
    "            current = esm_lookup[i]\n",
    "            current = current.repeat(total_ec_n, 1)\n",
    "            current = current.to(device)\n",
    "            norm_esm = (current - esm_lookup).norm(dim=1, p=2)\n",
    "            norm_esm = norm_esm.detach().cpu().numpy()\n",
    "            esm_dist[ec] = {}\n",
    "            for j, k in enumerate(ecs):\n",
    "                esm_dist[ec][k] = norm_esm[j]\n",
    "            if i % 2 == 0:\n",
    "                elapsed = time.time() - time_start\n",
    "                time_start = time.time()\n",
    "                print(\n",
    "                    f'|Processing {i:5d} out of {total_ec_n} |Time elapsed: {elapsed:5.5f} |')\n",
    "        return esm_dist"
   ]
  },
  {
   "cell_type": "code",
   "execution_count": 69,
   "metadata": {},
   "outputs": [],
   "source": [
    "def format(a):\n",
    "    if type(a) == dict:\n",
    "        a = a['mean_representations'][33]\n",
    "    return a"
   ]
  },
  {
   "cell_type": "code",
   "execution_count": 81,
   "metadata": {},
   "outputs": [
    {
     "data": {
      "text/plain": [
       "25608"
      ]
     },
     "execution_count": 81,
     "metadata": {},
     "output_type": "execute_result"
    }
   ],
   "source": [
    "N_query = 0\n",
    "for ec in list(ec_id_dict.keys()):\n",
    "    N_query += len(ec_id_dict[ec])\n",
    "N_query   "
   ]
  },
  {
   "cell_type": "code",
   "execution_count": 71,
   "metadata": {},
   "outputs": [
    {
     "name": "stdout",
     "output_type": "stream",
     "text": [
      "{'Q48743', 'Q8BL86', 'D4AXL1', 'Q59514', 'P52700', 'P30898', 'Q9ZMJ9', 'P0A3M4', 'P96465', 'P67920', 'P0A1V8', 'P52664', 'P14559', 'Q00982', 'P52682', 'P30899', 'O07293', 'B3U538', 'P04190', 'Q9K303', 'P45460', 'Q44056', 'O24968', 'B0V2S2', 'O25103', 'P26918', 'P14171', 'P13661', 'P37321', 'Q00983', 'P52699', 'P71778', 'C7C422', 'A5U493', 'Q59517', 'P81173', 'P16897', 'P24735', 'Q5YXD6'}\n",
      "the first id in first ec is: Q48743\n",
      "its esm is: tensor([ 0.1186,  0.2027,  0.0066,  ..., -0.0034, -0.0675,  0.1768])\n"
     ]
    }
   ],
   "source": [
    "for ec in list(ec_id_dict.keys()):\n",
    "    print(ec_id_dict[ec])\n",
    "    break\n",
    "lookup = list(ec_id_dict[ec])[0]\n",
    "esm_lookup = format(torch.load('./data/esm_data/'+ lookup + '.pt'))\n",
    "print(\"the first id in first ec is:\", lookup)\n",
    "print(\"its esm is:\", esm_lookup)"
   ]
  },
  {
   "cell_type": "code",
   "execution_count": 98,
   "metadata": {},
   "outputs": [
    {
     "name": "stdout",
     "output_type": "stream",
     "text": [
      "15.2 ms ± 220 µs per loop (mean ± std. dev. of 7 runs, 100 loops each)\n"
     ]
    }
   ],
   "source": [
    "# model(esm_lookup.to(device))\n",
    "esm_dummy = esm_lookup.unsqueeze(0) \n",
    "esm_dummy = esm_dummy.repeat(25608, 1) \n",
    "%timeit model(esm_dummy.to(device)).size()"
   ]
  },
  {
   "cell_type": "code",
   "execution_count": 83,
   "metadata": {},
   "outputs": [
    {
     "name": "stdout",
     "output_type": "stream",
     "text": [
      "torch.Size([39, 1280])\n",
      "torch.Size([1, 1280])\n",
      "|Processing     2 out of 4209 |Time elapsed:  2.02 |\n",
      "torch.Size([312, 1280])\n",
      "torch.Size([15, 1280])\n",
      "|Processing     4 out of 4209 |Time elapsed:  2.21 |\n",
      "torch.Size([11, 1280])\n",
      "torch.Size([13, 1280])\n",
      "|Processing     6 out of 4209 |Time elapsed:  2.04 |\n",
      "torch.Size([7, 1280])\n",
      "torch.Size([23, 1280])\n",
      "|Processing     8 out of 4209 |Time elapsed:  2.02 |\n",
      "torch.Size([1, 1280])\n",
      "torch.Size([15, 1280])\n",
      "|Processing    10 out of 4209 |Time elapsed:  1.99 |\n",
      "|Processing     0 out of 4209 |Time elapsed: 0.00050 |\n",
      "|Processing     2 out of 4209 |Time elapsed: 0.00050 |\n",
      "|Processing     4 out of 4209 |Time elapsed: 0.00050 |\n",
      "|Processing     6 out of 4209 |Time elapsed: 0.00050 |\n",
      "|Processing     8 out of 4209 |Time elapsed: 0.00000 |\n"
     ]
    }
   ],
   "source": [
    "dist_map = get_dist_map(args_out_dim, args_model_name, model=model)"
   ]
  }
 ],
 "metadata": {
  "interpreter": {
   "hash": "386218770bb7053658aedbdb94aaaba888065d92b04918111f39a883f4943438"
  },
  "kernelspec": {
   "display_name": "Python 3.8.5 ('base')",
   "language": "python",
   "name": "python3"
  },
  "language_info": {
   "codemirror_mode": {
    "name": "ipython",
    "version": 3
   },
   "file_extension": ".py",
   "mimetype": "text/x-python",
   "name": "python",
   "nbconvert_exporter": "python",
   "pygments_lexer": "ipython3",
   "version": "3.8.5"
  },
  "orig_nbformat": 4
 },
 "nbformat": 4,
 "nbformat_minor": 2
}
