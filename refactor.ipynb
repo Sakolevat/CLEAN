{
 "cells": [
  {
   "cell_type": "code",
   "execution_count": 1,
   "metadata": {},
   "outputs": [],
   "source": [
    "import pickle\n",
    "import torch\n",
    "import pickle\n",
    "from tqdm import tqdm\n",
    "from model import Net\n",
    "from helper.utils import get_ec_id_dict, esm_embedding, model_embedding_test\n",
    "from helper.distance_map import get_dist_map, get_dist_map_test, get_cluster_center\n",
    "import pandas as pd\n",
    "\n",
    "dtype = torch.float32\n",
    "device = torch.device(\"cuda\")\n"
   ]
  },
  {
   "cell_type": "markdown",
   "metadata": {},
   "source": [
    "#### Eval distance map size=(N_test_id x N_train_EC) refactor"
   ]
  },
  {
   "cell_type": "code",
   "execution_count": 2,
   "metadata": {},
   "outputs": [
    {
     "name": "stdout",
     "output_type": "stream",
     "text": [
      "The embedding sizes for train and test: torch.Size([25584, 128]) torch.Size([5492, 128])\n"
     ]
    },
    {
     "name": "stderr",
     "output_type": "stream",
     "text": [
      "100%|██████████| 4223/4223 [00:00<00:00, 16399.91it/s]\n"
     ]
    },
    {
     "name": "stdout",
     "output_type": "stream",
     "text": [
      "Calculating eval distance map, between 5492 test ids and 4223 train EC cluster centers\n"
     ]
    },
    {
     "name": "stderr",
     "output_type": "stream",
     "text": [
      "5492it [00:04, 1338.37it/s]\n"
     ]
    }
   ],
   "source": [
    "args_model_name = \"uniref10_train_split_1_3200\"\n",
    "args_test_data = \"uniref10_test_split_1_curate\"\n",
    "args_train_data = \"uniref10_train_split_1\"\n",
    "\n",
    "args_hidden_dim = 512\n",
    "args_out_dim = 128\n",
    "id_ec_train, ec_id_dict_train = get_ec_id_dict(\n",
    "    './data/' + args_train_data + '.csv')\n",
    "id_ec_test, ec_id_dict_test = get_ec_id_dict(\n",
    "    './data/' + args_test_data + '.csv')\n",
    "\n",
    "model = Net(args_hidden_dim, args_out_dim, device, dtype)\n",
    "checkpoint = torch.load('./model/uniref10_train_split_1_3200.pth')\n",
    "model.load_state_dict(checkpoint)\n",
    "\n",
    "emb_train = model(esm_embedding(ec_id_dict_train, device, dtype))\n",
    "emb_test = model_embedding_test(id_ec_test, model, device, dtype)\n",
    "eval_dist = get_dist_map_test(\n",
    "    emb_train, emb_test, ec_id_dict_train, id_ec_test, device, dtype)\n",
    "eval_df = pd.DataFrame.from_dict(eval_dist)\n",
    "eval_df.to_csv('./eval/distmap_' + args_test_data + '.csv')"
   ]
  },
  {
   "cell_type": "markdown",
   "metadata": {},
   "source": [
    "#### Training symmetric distance map refactor"
   ]
  },
  {
   "cell_type": "code",
   "execution_count": 4,
   "metadata": {},
   "outputs": [
    {
     "data": {
      "text/plain": [
       "<All keys matched successfully>"
      ]
     },
     "execution_count": 4,
     "metadata": {},
     "output_type": "execute_result"
    }
   ],
   "source": [
    "args_model_name = \"uniref10_train_split_0\"\n",
    "args_hidden_dim = 512\n",
    "args_out_dim  = 128\n",
    "id_ec, ec_id_dict = get_ec_id_dict('./data/' + args_model_name + '.csv')\n",
    "ec_id = {key: list(ec_id_dict[key]) for key in ec_id_dict.keys()}\n",
    "dist_map = pickle.load( open('./data/distance_map/' + args_model_name + '.pkl', 'rb'))\n",
    "model = Net(args_hidden_dim, args_out_dim, device, dtype)\n",
    "checkpoint = torch.load('./model/uniref10_train_split_0_50.pth')\n",
    "model.load_state_dict(checkpoint)\n",
    "esm_emb = esm_embedding(ec_id_dict, device, dtype)"
   ]
  },
  {
   "cell_type": "code",
   "execution_count": null,
   "metadata": {},
   "outputs": [],
   "source": [
    "args_train_file = \"uniref10_train_split_0\"\n",
    "_, ec_id_dict = get_ec_id_dict('./data/' + args_train_file + '.csv')\n",
    "# use cpu and high precision by default\n",
    "device, dtype = torch.device(\"cpu\"), torch.float64\n",
    "esm_emb = esm_embedding(ec_id_dict, device, dtype)\n",
    "esm_dist = get_dist_map(ec_id_dict, esm_emb, device, dtype)\n",
    "esm_df = pd.DataFrame.from_dict(esm_dist)\n",
    "# pickle.dump(esm_dist, open('./data/distance_map/' +\n",
    "#             args_train_file + '.pkl', 'wb'))\n",
    "esm_df.to_csv('./data/distance_map/' + args_train_file + '_df.csv')"
   ]
  }
 ],
 "metadata": {
  "interpreter": {
   "hash": "386218770bb7053658aedbdb94aaaba888065d92b04918111f39a883f4943438"
  },
  "kernelspec": {
   "display_name": "Python 3.8.5 ('base')",
   "language": "python",
   "name": "python3"
  },
  "language_info": {
   "codemirror_mode": {
    "name": "ipython",
    "version": 3
   },
   "file_extension": ".py",
   "mimetype": "text/x-python",
   "name": "python",
   "nbconvert_exporter": "python",
   "pygments_lexer": "ipython3",
   "version": "3.8.5"
  },
  "orig_nbformat": 4
 },
 "nbformat": 4,
 "nbformat_minor": 2
}
