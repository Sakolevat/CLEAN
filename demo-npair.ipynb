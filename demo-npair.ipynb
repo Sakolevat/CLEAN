{
 "cells": [
  {
   "cell_type": "code",
   "execution_count": 15,
   "metadata": {},
   "outputs": [],
   "source": [
    "import torch\n",
    "import time\n",
    "import os\n",
    "import pickle\n",
    "from helper.dataloader import *\n",
    "from helper.model import *\n",
    "from helper.utils import *\n",
    "from helper.losses import *\n",
    "import torch.nn as nn\n",
    "import torch.nn.functional as F\n",
    "from helper.distance_map import get_dist_map\n",
    "dtype = torch.float32\n",
    "device = torch.device(\"cuda\")"
   ]
  },
  {
   "cell_type": "code",
   "execution_count": 20,
   "metadata": {},
   "outputs": [],
   "source": [
    "args_model_name = \"uniref10_train_split_1_3200\"\n",
    "args_test_data = \"uniref10_test_split_1_curate\"\n",
    "args_train_data = \"uniref10_train_split_1\"\n",
    "\n",
    "args_hidden_dim = 512\n",
    "args_out_dim = 128\n",
    "id_ec_train, ec_id_dict_train = get_ec_id_dict(\n",
    "    './data/' + args_train_data + '.csv')\n",
    "id_ec_test, ec_id_dict_test = get_ec_id_dict(\n",
    "    './data/' + args_test_data + '.csv')\n",
    "\n",
    "model = LayerNormNet(args_hidden_dim, args_out_dim, device, dtype)\n",
    "checkpoint = torch.load('./model/uniref10_split1_final.pth')\n"
   ]
  },
  {
   "cell_type": "code",
   "execution_count": 21,
   "metadata": {},
   "outputs": [
    {
     "name": "stdout",
     "output_type": "stream",
     "text": [
      "loss is: 5.79771089553833\n",
      "the grad of fc1 layer is: tensor([[ 1.0353e-02,  4.3794e-03, -2.6401e-03,  ...,  5.6760e-03,\n",
      "         -5.8931e-03, -1.0929e-03],\n",
      "        [-2.1639e-03, -3.9893e-03,  6.3428e-03,  ..., -2.4620e-03,\n",
      "         -3.2567e-03, -3.8886e-04],\n",
      "        [ 2.2895e-05, -4.8278e-03,  5.4163e-04,  ..., -8.2139e-04,\n",
      "          5.5884e-03,  6.6505e-03],\n",
      "        ...,\n",
      "        [ 3.5583e-03, -2.3453e-03,  1.7957e-03,  ...,  2.9575e-03,\n",
      "         -3.4567e-03,  6.5465e-03],\n",
      "        [-3.0378e-03,  7.3197e-04, -6.4718e-03,  ..., -7.4425e-04,\n",
      "         -9.8990e-03,  7.8915e-03],\n",
      "        [-2.3531e-03, -2.3591e-04, -8.8495e-04,  ..., -1.2460e-03,\n",
      "         -3.3979e-03, -5.2351e-03]], device='cuda:0')\n"
     ]
    }
   ],
   "source": [
    "seed_everything()\n",
    "model.zero_grad()\n",
    "# the input to the model will be of size [bsz, (1+n_pos+n_neg), 1280]\n",
    "n_pos = 1; n_neg = 50; bsz = 400; temp = 0.1\n",
    "n_all = 1 + n_pos + n_neg\n",
    "dummy_input = torch.randn(bsz, n_all, 1280).to(device, dtype)\n",
    "model_emb = model(dummy_input)\n",
    "loss = NPairLoss(model_emb, 0.1)\n",
    "loss.backward()\n",
    "print(\"loss is:\", loss.item())\n",
    "print(\"the grad of fc1 layer is:\", model.fc1.weight.grad)"
   ]
  }
 ],
 "metadata": {
  "interpreter": {
   "hash": "386218770bb7053658aedbdb94aaaba888065d92b04918111f39a883f4943438"
  },
  "kernelspec": {
   "display_name": "Python 3.8.5 ('base')",
   "language": "python",
   "name": "python3"
  },
  "language_info": {
   "codemirror_mode": {
    "name": "ipython",
    "version": 3
   },
   "file_extension": ".py",
   "mimetype": "text/x-python",
   "name": "python",
   "nbconvert_exporter": "python",
   "pygments_lexer": "ipython3",
   "version": "3.8.5"
  },
  "orig_nbformat": 4
 },
 "nbformat": 4,
 "nbformat_minor": 2
}
