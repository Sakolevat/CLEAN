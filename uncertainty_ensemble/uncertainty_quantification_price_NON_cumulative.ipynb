{
 "cells": [
  {
   "cell_type": "code",
   "execution_count": 1,
   "metadata": {},
   "outputs": [],
   "source": [
    "import torch\n",
    "import pickle\n",
    "from matplotlib import pyplot as plt\n",
    "import numpy as np\n",
    "from itertools import chain\n",
    "from helper.model import *\n",
    "from helper.utils import *\n",
    "from helper.distance_map import *\n",
    "from helper.evaluate import *\n",
    "from scipy import stats\n",
    "from tqdm import tqdm\n",
    "import pandas as pd\n",
    "import warnings\n",
    "def warn(*args, **kwargs):\n",
    "    pass\n",
    "warnings.warn = warn\n",
    "\n",
    "args_train_data = \"uniref100_full\"\n",
    "args_test_data = \"price_149\"\n",
    "#args_test_data = \"new\"\n",
    "args_model_name = \"split100_ensemble/split100_\"  \n",
    "args_weight_path = \"uncertainty_ensemble/\" \n",
    "args_N_models = 8\n",
    "\n",
    "use_cuda = torch.cuda.is_available()\n",
    "device = torch.device(\"cuda:0\" if use_cuda else \"cpu\")\n",
    "dtype = torch.float32\n",
    "#\n",
    "id_ec_train, ec_id_dict_train = get_ec_id_dict('./data/'+args_train_data+'.csv')\n",
    "id_ec_test, _ = get_ec_id_dict('./data/'+args_test_data+'.csv')"
   ]
  },
  {
   "cell_type": "code",
   "execution_count": null,
   "metadata": {},
   "outputs": [],
   "source": [
    "# keep models output embeddings\n",
    "esm_embedding_train = esm_embedding(ec_id_dict_train, device, dtype)\n",
    "\n",
    "for i in (range(args_N_models)):\n",
    "    model_i = LayerNormNet(512, 128, device, dtype)\n",
    "    model_name_i = args_model_name + str(i)\n",
    "    print(\"loading model:\", model_name_i)\n",
    "    checkpoint = torch.load('./model/' + model_name_i + '.pth')\n",
    "    model_i.load_state_dict(checkpoint)\n",
    "    model_i.eval()\n",
    "    emb_train_i = model_i(esm_embedding_train) \n",
    "    emb_test_i = model_embedding_test(id_ec_test, model_i, device, dtype) \n",
    "    emb_train_i_path = args_weight_path+args_test_data+\"_emb_train_\"+str(i)+'.pt'\n",
    "    emb_test_i_path = args_weight_path+args_test_data+\"_emb_test_\"+str(i)+'.pt'\n",
    "    torch.save(emb_train_i, emb_train_i_path)\n",
    "    torch.save(emb_test_i, emb_test_i_path)"
   ]
  },
  {
   "cell_type": "code",
   "execution_count": 2,
   "metadata": {},
   "outputs": [
    {
     "name": "stdout",
     "output_type": "stream",
     "text": [
      "The embedding sizes for train and test: torch.Size([241025, 128]) torch.Size([149, 128])\n"
     ]
    },
    {
     "name": "stderr",
     "output_type": "stream",
     "text": [
      "100%|██████████| 5242/5242 [00:01<00:00, 3772.58it/s]\n"
     ]
    },
    {
     "name": "stdout",
     "output_type": "stream",
     "text": [
      "Calculating eval distance map, between 149 test ids and 5242 train EC cluster centers\n"
     ]
    },
    {
     "name": "stderr",
     "output_type": "stream",
     "text": [
      "149it [00:00, 834.74it/s]\n"
     ]
    },
    {
     "name": "stdout",
     "output_type": "stream",
     "text": [
      "The embedding sizes for train and test: torch.Size([241025, 128]) torch.Size([149, 128])\n"
     ]
    },
    {
     "name": "stderr",
     "output_type": "stream",
     "text": [
      "100%|██████████| 5242/5242 [00:00<00:00, 9253.31it/s] \n"
     ]
    },
    {
     "name": "stdout",
     "output_type": "stream",
     "text": [
      "Calculating eval distance map, between 149 test ids and 5242 train EC cluster centers\n"
     ]
    },
    {
     "name": "stderr",
     "output_type": "stream",
     "text": [
      "149it [00:00, 748.74it/s]\n"
     ]
    },
    {
     "name": "stdout",
     "output_type": "stream",
     "text": [
      "The embedding sizes for train and test: torch.Size([241025, 128]) torch.Size([149, 128])\n"
     ]
    },
    {
     "name": "stderr",
     "output_type": "stream",
     "text": [
      "100%|██████████| 5242/5242 [00:00<00:00, 12723.27it/s]\n"
     ]
    },
    {
     "name": "stdout",
     "output_type": "stream",
     "text": [
      "Calculating eval distance map, between 149 test ids and 5242 train EC cluster centers\n"
     ]
    },
    {
     "name": "stderr",
     "output_type": "stream",
     "text": [
      "149it [00:00, 668.16it/s]\n"
     ]
    },
    {
     "name": "stdout",
     "output_type": "stream",
     "text": [
      "The embedding sizes for train and test: torch.Size([241025, 128]) torch.Size([149, 128])\n"
     ]
    },
    {
     "name": "stderr",
     "output_type": "stream",
     "text": [
      "100%|██████████| 5242/5242 [00:00<00:00, 11687.88it/s]\n"
     ]
    },
    {
     "name": "stdout",
     "output_type": "stream",
     "text": [
      "Calculating eval distance map, between 149 test ids and 5242 train EC cluster centers\n"
     ]
    },
    {
     "name": "stderr",
     "output_type": "stream",
     "text": [
      "149it [00:00, 790.45it/s]\n"
     ]
    },
    {
     "name": "stdout",
     "output_type": "stream",
     "text": [
      "The embedding sizes for train and test: torch.Size([241025, 128]) torch.Size([149, 128])\n"
     ]
    },
    {
     "name": "stderr",
     "output_type": "stream",
     "text": [
      "100%|██████████| 5242/5242 [00:00<00:00, 13204.11it/s]\n"
     ]
    },
    {
     "name": "stdout",
     "output_type": "stream",
     "text": [
      "Calculating eval distance map, between 149 test ids and 5242 train EC cluster centers\n"
     ]
    },
    {
     "name": "stderr",
     "output_type": "stream",
     "text": [
      "149it [00:00, 925.47it/s]\n"
     ]
    },
    {
     "name": "stdout",
     "output_type": "stream",
     "text": [
      "The embedding sizes for train and test: torch.Size([241025, 128]) torch.Size([149, 128])\n"
     ]
    },
    {
     "name": "stderr",
     "output_type": "stream",
     "text": [
      "100%|██████████| 5242/5242 [00:00<00:00, 13287.91it/s]\n"
     ]
    },
    {
     "name": "stdout",
     "output_type": "stream",
     "text": [
      "Calculating eval distance map, between 149 test ids and 5242 train EC cluster centers\n"
     ]
    },
    {
     "name": "stderr",
     "output_type": "stream",
     "text": [
      "149it [00:00, 908.55it/s]\n"
     ]
    },
    {
     "name": "stdout",
     "output_type": "stream",
     "text": [
      "The embedding sizes for train and test: torch.Size([241025, 128]) torch.Size([149, 128])\n"
     ]
    },
    {
     "name": "stderr",
     "output_type": "stream",
     "text": [
      "100%|██████████| 5242/5242 [00:00<00:00, 13187.37it/s]\n"
     ]
    },
    {
     "name": "stdout",
     "output_type": "stream",
     "text": [
      "Calculating eval distance map, between 149 test ids and 5242 train EC cluster centers\n"
     ]
    },
    {
     "name": "stderr",
     "output_type": "stream",
     "text": [
      "149it [00:00, 856.32it/s]\n"
     ]
    },
    {
     "name": "stdout",
     "output_type": "stream",
     "text": [
      "The embedding sizes for train and test: torch.Size([241025, 128]) torch.Size([149, 128])\n"
     ]
    },
    {
     "name": "stderr",
     "output_type": "stream",
     "text": [
      "100%|██████████| 5242/5242 [00:00<00:00, 11024.13it/s]\n"
     ]
    },
    {
     "name": "stdout",
     "output_type": "stream",
     "text": [
      "Calculating eval distance map, between 149 test ids and 5242 train EC cluster centers\n"
     ]
    },
    {
     "name": "stderr",
     "output_type": "stream",
     "text": [
      "149it [00:00, 707.85it/s]\n"
     ]
    }
   ],
   "source": [
    "# get distance map for all models\n",
    "eval_dist_lst_all = []\n",
    "for i in (range(args_N_models)):\n",
    "    emb_train_i_path = args_weight_path+args_test_data+\"_emb_train_\"+str(i)+'.pt'\n",
    "    emb_test_i_path = args_weight_path+args_test_data+\"_emb_test_\"+str(i)+'.pt'\n",
    "    emb_train = torch.load(emb_train_i_path)\n",
    "    emb_test = torch.load(emb_test_i_path)\n",
    "    eval_dist = get_dist_map_test(\n",
    "            emb_train, emb_test, ec_id_dict_train, id_ec_test, \n",
    "            device, dtype, dot=False)\n",
    "    eval_dist_lst_all.append(eval_dist)"
   ]
  },
  {
   "cell_type": "code",
   "execution_count": 3,
   "metadata": {},
   "outputs": [],
   "source": [
    "def get_precision_bins(eval_dist_lst, N_bins=6, N_random_models=5,\n",
    "                       use_std_pred=True):\n",
    "    # use_std_pred: whether use percentile \n",
    "    # calculated from maxsep predictions only\n",
    "    ############################################################\n",
    "    eval_dist_w_std = dict()\n",
    "    eval_dist_mean = dict()\n",
    "    # keep track of all query/ec dist std for future ranking\n",
    "    all_dist_std = []\n",
    "    # calculate distance map with standard deviation\n",
    "    print(\"calculating mean distance and std\")\n",
    "    for query in  tqdm(eval_dist_lst[0].keys()):\n",
    "        dist_mean_std = dict()\n",
    "        dist_mean_dict = dict()\n",
    "        # get the ec/distance dictionary\n",
    "        for ec in eval_dist_lst[0][query]:\n",
    "            # find distances for this query/ec pair for these models\n",
    "            all_dist_per_ec = []\n",
    "            for i in range(N_random_models):\n",
    "                all_ec_dist_per_query = eval_dist_lst[i][query] \n",
    "                dist_i = all_ec_dist_per_query[ec]\n",
    "                all_dist_per_ec.append(dist_i)\n",
    "            dist_mean = np.mean(all_dist_per_ec)\n",
    "            dist_std = np.std(all_dist_per_ec)\n",
    "            all_dist_std.append(dist_std)\n",
    "            dist_mean_std[ec] = (dist_mean, dist_std)\n",
    "            dist_mean_dict[ec] = dist_mean\n",
    "        eval_dist_w_std[query] = dist_mean_std\n",
    "        eval_dist_mean[query] = dist_mean_dict\n",
    "    ############################################################\n",
    "    # get max sep prediction results for all models\n",
    "    certainty_from_all_dist_lst = []\n",
    "    certainty_from_dist_in_pred_lst = []\n",
    "    all_std_in_pred_lst = []\n",
    "    dist_map_df = pd.DataFrame.from_dict(eval_dist_mean); \n",
    "    first_grad=True; use_max_grad=False\n",
    "    # get predictions\n",
    "    query_prediction_lst = []\n",
    "    for query in tqdm(dist_map_df.columns):\n",
    "        smallest_10_dist_df = dist_map_df[query].nsmallest(10)\n",
    "        dist_lst = list(smallest_10_dist_df)\n",
    "        max_sep_i = maximum_separation(dist_lst, first_grad, use_max_grad)\n",
    "        predictions = []\n",
    "        for i in range(max_sep_i+1):\n",
    "            EC_i = smallest_10_dist_df.index[i]\n",
    "            dist_i = smallest_10_dist_df[i]\n",
    "            predictions.append((EC_i, dist_i))\n",
    "            _, dist_std = eval_dist_w_std[query][EC_i]\n",
    "            # keep track of all dist std appeared in prediction\n",
    "            all_std_in_pred_lst.append(dist_std)\n",
    "            #print(query, EC_i, dist_std, perc_certainty)\n",
    "        query_prediction_lst.append((query, predictions))\n",
    "    ############################################################\n",
    "    bins_query_by_certainty = [[] for i in range(N_bins)]\n",
    "    query_count = 0\n",
    "    for query in tqdm(dist_map_df.columns):\n",
    "        smallest_10_dist_df = dist_map_df[query].nsmallest(10)\n",
    "        dist_lst = list(smallest_10_dist_df)\n",
    "        max_sep_i = maximum_separation(dist_lst, first_grad, use_max_grad)\n",
    "        # bin by minimum certainty\n",
    "        certainty_per_query = []\n",
    "        for i in range(max_sep_i+1):\n",
    "            EC_i = smallest_10_dist_df.index[i]\n",
    "            dist_i = smallest_10_dist_df[i]\n",
    "            predictions.append((EC_i, dist_i))\n",
    "            _, dist_std = eval_dist_w_std[query][EC_i]\n",
    "            # certainty by all distance std in distance map\n",
    "            perc_certainty = 1 - stats.percentileofscore(\n",
    "                all_dist_std, dist_std, 'rank')/100\n",
    "            certainty_from_all_dist_lst.append(perc_certainty)\n",
    "            # certainty by all distance std in prediction\n",
    "            perc_certainty_in_pred = 1 - stats.percentileofscore(\n",
    "                all_std_in_pred_lst, dist_std, 'rank')/100\n",
    "            certainty_from_dist_in_pred_lst.append(perc_certainty_in_pred)\n",
    "            ###################################\n",
    "            if use_std_pred:\n",
    "                certainty_per_query.append(perc_certainty_in_pred) # perc method 2)\n",
    "            else:\n",
    "                certainty_per_query.append(perc_certainty) # perc method 1)\n",
    "                \n",
    "        for bin_i in range(N_bins):\n",
    "            lower, upper = bin_i/N_bins, (bin_i+1)/N_bins\n",
    "            for certainty in certainty_per_query:\n",
    "                if certainty >= lower and certainty < upper:\n",
    "                    bins_query_by_certainty[bin_i].append(query_count)\n",
    "        query_count += 1\n",
    "    \n",
    "    ############################################################\n",
    "    # write the top 10 closest EC to _top10.csv\n",
    "    out_filename = './eval/' + args_test_data\n",
    "    # _ = write_top10_choices(eval_df, out_filename)\n",
    "    # maximum separation results\n",
    "    write_max_sep_choices(dist_map_df, out_filename, first_grad=True, use_max_grad=False)\n",
    "    # get preds and true labels\n",
    "    pred_label = get_pred_labels(out_filename, pred_type='_maxsep')\n",
    "    pred_probs = get_pred_probs(out_filename, pred_type='_maxsep')\n",
    "    true_label, all_label = get_true_labels('./data/'+args_test_data)\n",
    "    pre, rec, f1, roc, acc = get_eval_metrics_new(\n",
    "        pred_label, pred_probs, true_label, all_label)\n",
    "    results_all = (pre, rec, f1, roc, acc)\n",
    "    \n",
    "    print(\"Overall size:\", len(pred_label))\n",
    "    print(\"overall:\", pre, rec, f1, roc, acc)\n",
    "    # collect results by bin\n",
    "    results_per_bin = [] \n",
    "    for bin_i in range(N_bins):\n",
    "        query_bin = bins_query_by_certainty[bin_i]\n",
    "        pred_label_i = [pred_label[i] for i in query_bin]\n",
    "        pred_probs_i = [pred_probs[i] for i in query_bin]\n",
    "        true_label_i = [true_label[i] for i in query_bin]\n",
    "        all_label_i = set(list(chain.from_iterable(true_label_i)))\n",
    "        #print(pred_label_i, pred_probs_i, true_label_i, all_label_i)\n",
    "        # print(pred_label_i, pred_probs_i, true_label_i)\n",
    "        # raise\n",
    "        # print(\"bin:\", bin_i, len(pred_label_i))\n",
    "        # print(\"bin:\", bin_i, pre, rec, f1, roc, acc)\n",
    "        pre, rec, f1, roc, acc = get_eval_metrics_new(\n",
    "            pred_label_i, pred_probs_i, true_label_i, all_label_i)\n",
    "        results_per_bin.append((pre, rec, f1, roc, acc))\n",
    "\n",
    "    return results_per_bin, results_all"
   ]
  },
  {
   "cell_type": "code",
   "execution_count": 4,
   "metadata": {},
   "outputs": [],
   "source": [
    "args_N_experiment = 15\n",
    "args_N_random_models = 5\n",
    "args_N_bins = 10\n",
    "# randomly choose models to do ensemble\n",
    "np.random.seed(1)\n",
    "models_experiments = [np.random.choice(8, 5, replace=False) \n",
    "                      for i in range(args_N_experiment)]"
   ]
  },
  {
   "cell_type": "code",
   "execution_count": null,
   "metadata": {},
   "outputs": [],
   "source": [
    "result_bin_per_experiment = []\n",
    "result_all_per_experiment = []\n",
    "for experiment in models_experiments:\n",
    "    eval_dist_lst = [eval_dist_lst_all[model] for model in experiment] \n",
    "    results_per_bin, results_all = get_precision_bins(\n",
    "        eval_dist_lst, N_random_models=args_N_random_models,\n",
    "        N_bins=args_N_bins, use_std_pred=True)\n",
    "    result_bin_per_experiment.append(results_per_bin)\n",
    "    result_all_per_experiment.append(results_all)"
   ]
  },
  {
   "cell_type": "code",
   "execution_count": 13,
   "metadata": {},
   "outputs": [],
   "source": [
    "with open('uncertainty_ensemble/price_non_cumulative.pkl', 'wb') as f:\n",
    "    pickle.dump((result_bin_per_experiment, result_all_per_experiment), f)\n",
    "with open('uncertainty_ensemble/price_non_cumulative.pkl', 'rb') as f:\n",
    "    result_bin_per_experiment, result_all_per_experiment = pickle.load(f)"
   ]
  },
  {
   "cell_type": "code",
   "execution_count": 6,
   "metadata": {},
   "outputs": [],
   "source": [
    "# clean over all metrics for experiments \n",
    "pre_all, rec_all, f1_all, roc_all, acc_all = [], [], [], [], []\n",
    "for i in range(args_N_experiment):\n",
    "    result_all_i = result_all_per_experiment[i]\n",
    "    pre, rec, f1, roc, acc = result_all_i\n",
    "    pre_all.append(pre); rec_all.append(rec); f1_all.append(f1);\n",
    "    roc_all.append(roc); acc_all.append(acc)\n",
    "pre_all_avg = np.mean(pre_all)\n",
    "rec_all_avg = np.mean(rec_all)\n",
    "f1_all_avg = np.mean(f1_all)\n",
    "roc_all_avg = np.mean(roc_all)\n",
    "acc_all_avg = np.mean(acc_all)"
   ]
  },
  {
   "cell_type": "code",
   "execution_count": 7,
   "metadata": {},
   "outputs": [],
   "source": [
    "pre_rec_f1_roc_acc_mean = [[] for i in range(5)]\n",
    "pre_rec_f1_roc_acc_std = [[] for i in range(5)]\n",
    "\n",
    "for bin_i in range(args_N_bins):\n",
    "    result_bin_i = [result_bin_per_experiment[i][bin_i]\n",
    "                    for i in range(args_N_experiment)]\n",
    "    metrics_mean = np.mean(result_bin_i, axis=0)\n",
    "    metrics_std = np.std(result_bin_i, axis=0)\n",
    "    for i in range(5):\n",
    "        # add each metrics for bin_i\n",
    "        pre_rec_f1_roc_acc_mean[i].append(metrics_mean[i])\n",
    "        pre_rec_f1_roc_acc_std[i].append(metrics_std[i])\n"
   ]
  },
  {
   "attachments": {},
   "cell_type": "markdown",
   "metadata": {},
   "source": [
    "## Precision"
   ]
  },
  {
   "cell_type": "code",
   "execution_count": 14,
   "metadata": {},
   "outputs": [
    {
     "name": "stdout",
     "output_type": "stream",
     "text": [
      "Average precision across all experiments: 0.5896929824561403\n"
     ]
    },
    {
     "data": {
      "text/plain": [
       "Text(0.5, 1.0, 'Uncertainty quantification for price_149')"
      ]
     },
     "execution_count": 14,
     "metadata": {},
     "output_type": "execute_result"
    },
    {
     "data": {
      "image/png": "[encoded data removed]",
      "text/plain": [
       "<Figure size 432x288 with 1 Axes>"
      ]
     },
     "metadata": {
      "needs_background": "light"
     },
     "output_type": "display_data"
    }
   ],
   "source": [
    "print(\"Average precision across all experiments:\", pre_all_avg)\n",
    "pre_bin_mean = pre_rec_f1_roc_acc_mean[0]\n",
    "pre_bin_std = pre_rec_f1_roc_acc_std[0]\n",
    " \n",
    "confidence_range = [i/args_N_bins for i in range(args_N_bins)]\n",
    "# precision average over experiment, binned\n",
    "plt.plot(confidence_range, pre_bin_mean,\n",
    "         label='precision, binned')\n",
    "# average overall precision\n",
    "plt.plot(confidence_range, [pre_all_avg for i in range(args_N_bins)], \n",
    "         '--', label='overall mean precision')\n",
    "lower = np.array(pre_bin_mean) - np.array(pre_bin_std)\n",
    "upper = np.array(pre_bin_mean) + np.array(pre_bin_std)\n",
    "plt.fill_between(confidence_range, lower, upper, alpha=.1)\n",
    "plt.xlabel(\"confidence percentile\")\n",
    "plt.ylabel(\"cumulative precision\")\n",
    "plt.legend(loc='lower right')\n",
    "plt.title(\"Uncertainty quantification for \" + args_test_data)"
   ]
  },
  {
   "attachments": {},
   "cell_type": "markdown",
   "metadata": {},
   "source": [
    "## Recall"
   ]
  },
  {
   "cell_type": "code",
   "execution_count": 9,
   "metadata": {},
   "outputs": [
    {
     "name": "stdout",
     "output_type": "stream",
     "text": [
      "Average recall across all experiments: 0.44649122807017533\n"
     ]
    },
    {
     "data": {
      "text/plain": [
       "Text(0.5, 1.0, 'Uncertainty quantification for price_149')"
      ]
     },
     "execution_count": 9,
     "metadata": {},
     "output_type": "execute_result"
    },
    {
     "data": {
      "image/png": "[encoded data removed]",
      "text/plain": [
       "<Figure size 432x288 with 1 Axes>"
      ]
     },
     "metadata": {
      "needs_background": "light"
     },
     "output_type": "display_data"
    }
   ],
   "source": [
    "print(\"Average recall across all experiments:\", rec_all_avg)\n",
    "rec_bin_mean = pre_rec_f1_roc_acc_mean[1]\n",
    "rec_bin_std = pre_rec_f1_roc_acc_std[1]\n",
    "\n",
    "confidence_range = [i/args_N_bins for i in range(args_N_bins)]\n",
    "# recall average over experiment, binned\n",
    "plt.plot(confidence_range, rec_bin_mean,\n",
    "         label='recall, binned')\n",
    "# average overall recall\n",
    "plt.plot(confidence_range, [rec_all_avg for i in range(args_N_bins)], \n",
    "         '--', label='overall mean recall')\n",
    "\n",
    "lower = np.array(rec_bin_mean) - np.array(rec_bin_std)\n",
    "upper = np.array(rec_bin_mean) + np.array(rec_bin_std)\n",
    "plt.fill_between(confidence_range, lower, upper, alpha=.1)\n",
    "plt.xlabel(\"confidence percentile\")\n",
    "plt.ylabel(\"cumulative recall\")\n",
    "plt.legend(loc='lower right')\n",
    "plt.title(\"Uncertainty quantification for \" + args_test_data)"
   ]
  },
  {
   "attachments": {},
   "cell_type": "markdown",
   "metadata": {},
   "source": [
    "## F1"
   ]
  },
  {
   "cell_type": "code",
   "execution_count": 10,
   "metadata": {},
   "outputs": [
    {
     "name": "stdout",
     "output_type": "stream",
     "text": [
      "Average F1 across all experiments: 0.4788337146599531\n"
     ]
    },
    {
     "data": {
      "text/plain": [
       "Text(0.5, 1.0, 'Uncertainty quantification for price_149')"
      ]
     },
     "execution_count": 10,
     "metadata": {},
     "output_type": "execute_result"
    },
    {
     "data": {
      "image/png": "[encoded data removed]",
      "text/plain": [
       "<Figure size 432x288 with 1 Axes>"
      ]
     },
     "metadata": {
      "needs_background": "light"
     },
     "output_type": "display_data"
    }
   ],
   "source": [
    "print(\"Average F1 across all experiments:\", f1_all_avg)\n",
    "f1_bin_mean = pre_rec_f1_roc_acc_mean[2]\n",
    "f1_bin_std = pre_rec_f1_roc_acc_std[2]\n",
    "confidence_range = [i/args_N_bins for i in range(args_N_bins)]\n",
    "# f1 average over experiment, binned\n",
    "plt.plot(confidence_range, f1_bin_mean,\n",
    "         label='F1, binned')\n",
    "# average overall F1\n",
    "plt.plot(confidence_range, [f1_all_avg for i in range(args_N_bins)], \n",
    "         '--', label='overall mean F1')\n",
    "\n",
    "lower = np.array(f1_bin_mean) - np.array(f1_bin_std)\n",
    "upper = np.array(f1_bin_mean) + np.array(f1_bin_std)\n",
    "plt.fill_between(confidence_range, lower, upper, alpha=.1)\n",
    "plt.xlabel(\"confidence percentile\")\n",
    "plt.ylabel(\"cumulative F1\")\n",
    "plt.legend(loc='lower right')\n",
    "plt.title(\"Uncertainty quantification for \" + args_test_data)"
   ]
  },
  {
   "attachments": {},
   "cell_type": "markdown",
   "metadata": {},
   "source": [
    "### AUC"
   ]
  },
  {
   "cell_type": "code",
   "execution_count": 11,
   "metadata": {},
   "outputs": [
    {
     "name": "stdout",
     "output_type": "stream",
     "text": [
      "Average AUC across all experiments: 0.7230925242203436\n"
     ]
    },
    {
     "data": {
      "text/plain": [
       "Text(0.5, 1.0, 'Uncertainty quantification for price_149')"
      ]
     },
     "execution_count": 11,
     "metadata": {},
     "output_type": "execute_result"
    },
    {
     "data": {
      "image/png": "[encoded data removed]",
      "text/plain": [
       "<Figure size 432x288 with 1 Axes>"
      ]
     },
     "metadata": {
      "needs_background": "light"
     },
     "output_type": "display_data"
    }
   ],
   "source": [
    "print(\"Average AUC across all experiments:\", roc_all_avg)\n",
    "roc_bin_mean = pre_rec_f1_roc_acc_mean[3]\n",
    "roc_bin_std = pre_rec_f1_roc_acc_std[3]\n",
    "confidence_range = [i/args_N_bins for i in range(args_N_bins)]\n",
    "# AUC average over experiment, binned\n",
    "plt.plot(confidence_range, roc_bin_mean,\n",
    "         label='AUC, binned')\n",
    "# average overall F1\n",
    "plt.plot(confidence_range, [roc_all_avg for i in range(args_N_bins)], \n",
    "         '--', label='overall mean AUC')\n",
    "\n",
    "lower = np.array(roc_bin_mean) - np.array(roc_bin_std)\n",
    "upper = np.array(roc_bin_mean) + np.array(roc_bin_std)\n",
    "plt.fill_between(confidence_range, lower, upper, alpha=.1)\n",
    "plt.xlabel(\"confidence percentile\")\n",
    "plt.ylabel(\"cumulative AUC\")\n",
    "plt.legend(loc='lower right')\n",
    "plt.title(\"Uncertainty quantification for \" + args_test_data)"
   ]
  },
  {
   "attachments": {},
   "cell_type": "markdown",
   "metadata": {},
   "source": [
    "## Accuracy"
   ]
  },
  {
   "cell_type": "code",
   "execution_count": 12,
   "metadata": {},
   "outputs": [
    {
     "name": "stdout",
     "output_type": "stream",
     "text": [
      "Average accuracy across all experiments: 0.4519015659955257\n"
     ]
    },
    {
     "data": {
      "text/plain": [
       "Text(0.5, 1.0, 'Uncertainty quantification for price_149')"
      ]
     },
     "execution_count": 12,
     "metadata": {},
     "output_type": "execute_result"
    },
    {
     "data": {
      "image/png": "[encoded data removed]",
      "text/plain": [
       "<Figure size 432x288 with 1 Axes>"
      ]
     },
     "metadata": {
      "needs_background": "light"
     },
     "output_type": "display_data"
    }
   ],
   "source": [
    "print(\"Average accuracy across all experiments:\", acc_all_avg)\n",
    "acc_bin_mean = pre_rec_f1_roc_acc_mean[4]\n",
    "acc_bin_std = pre_rec_f1_roc_acc_std[4]\n",
    "confidence_range = [i/args_N_bins for i in range(args_N_bins)]\n",
    "# AUC average over experiment, binned\n",
    "plt.plot(confidence_range, acc_bin_mean,\n",
    "         label='accuracy, binned')\n",
    "# average overall F1\n",
    "plt.plot(confidence_range, [acc_all_avg for i in range(args_N_bins)], \n",
    "         '--', label='overall mean accuracy')\n",
    "\n",
    "lower = np.array(acc_bin_mean) - np.array(acc_bin_std)\n",
    "upper = np.array(acc_bin_mean) + np.array(acc_bin_std)\n",
    "plt.fill_between(confidence_range, lower, upper, alpha=.1)\n",
    "plt.xlabel(\"confidence percentile\")\n",
    "plt.ylabel(\"cumulative accuracy\")\n",
    "plt.legend(loc='lower right')\n",
    "plt.title(\"Uncertainty quantification for \" + args_test_data)"
   ]
  }
 ],
 "metadata": {
  "kernelspec": {
   "display_name": "Python 3.8.5 ('base')",
   "language": "python",
   "name": "python3"
  },
  "language_info": {
   "codemirror_mode": {
    "name": "ipython",
    "version": 3
   },
   "file_extension": ".py",
   "mimetype": "text/x-python",
   "name": "python",
   "nbconvert_exporter": "python",
   "pygments_lexer": "ipython3",
   "version": "3.8.5"
  },
  "orig_nbformat": 4,
  "vscode": {
   "interpreter": {
    "hash": "386218770bb7053658aedbdb94aaaba888065d92b04918111f39a883f4943438"
   }
  }
 },
 "nbformat": 4,
 "nbformat_minor": 2
}
