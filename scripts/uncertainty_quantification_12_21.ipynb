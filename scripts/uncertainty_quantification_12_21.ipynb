{
 "cells": [
  {
   "cell_type": "code",
   "execution_count": 142,
   "metadata": {},
   "outputs": [],
   "source": [
    "import torch\n",
    "import pickle\n",
    "from itertools import chain\n",
    "from helper.model import *\n",
    "from helper.utils import *\n",
    "from helper.distance_map import *\n",
    "from helper.evaluate import *\n",
    "from scipy import stats\n",
    "from tqdm import tqdm\n",
    "import pandas as pd\n",
    "import warnings\n",
    "def warn(*args, **kwargs):\n",
    "    pass\n",
    "warnings.warn = warn\n",
    "\n",
    "args_train_data = \"uniref100_full\"\n",
    "#args_test_data = \"price_149\"\n",
    "args_test_data = \"new\"\n",
    "args_model_name = \"split100_ensemble/split100_\"  \n",
    "args_weight_path = \"uncertainty_ensemble/\" \n",
    "args_N_models = 8\n",
    "\n",
    "use_cuda = torch.cuda.is_available()\n",
    "device = torch.device(\"cuda:0\" if use_cuda else \"cpu\")\n",
    "dtype = torch.float32\n",
    "#\n",
    "id_ec_train, ec_id_dict_train = get_ec_id_dict('./data/'+args_train_data+'.csv')\n",
    "id_ec_test, _ = get_ec_id_dict('./data/'+args_test_data+'.csv')"
   ]
  },
  {
   "cell_type": "code",
   "execution_count": null,
   "metadata": {},
   "outputs": [],
   "source": [
    "# keep models output embeddings\n",
    "esm_embedding_train = esm_embedding(ec_id_dict_train, device, dtype)\n",
    "\n",
    "for i in (range(args_N_models)):\n",
    "    model_i = LayerNormNet(512, 128, device, dtype)\n",
    "    model_name_i = args_model_name + str(i)\n",
    "    print(\"loading model:\", model_name_i)\n",
    "    checkpoint = torch.load('./model/' + model_name_i + '.pth')\n",
    "    model_i.load_state_dict(checkpoint)\n",
    "    model_i.eval()\n",
    "    emb_train_i = model_i(esm_embedding_train) \n",
    "    emb_test_i = model_embedding_test(id_ec_test, model_i, device, dtype) \n",
    "    emb_train_i_path = args_weight_path+args_test_data+\"_emb_train_\"+str(i)+'.pt'\n",
    "    emb_test_i_path = args_weight_path+args_test_data+\"_emb_test_\"+str(i)+'.pt'\n",
    "    torch.save(emb_train_i, emb_train_i_path)\n",
    "    torch.save(emb_test_i, emb_test_i_path)"
   ]
  },
  {
   "cell_type": "code",
   "execution_count": null,
   "metadata": {},
   "outputs": [],
   "source": [
    "# get distance map for all models\n",
    "eval_dist_lst = []\n",
    "for i in (range(args_N_models)):\n",
    "    emb_train_i_path = args_weight_path+args_test_data+\"_emb_train_\"+str(i)+'.pt'\n",
    "    emb_test_i_path = args_weight_path+args_test_data+\"_emb_test_\"+str(i)+'.pt'\n",
    "    emb_train = torch.load(emb_train_i_path)\n",
    "    emb_test = torch.load(emb_test_i_path)\n",
    "    eval_dist = get_dist_map_test(\n",
    "            emb_train, emb_test, ec_id_dict_train, id_ec_test, \n",
    "            device, dtype, dot=False)\n",
    "    eval_dist_lst.append(eval_dist)\n"
   ]
  },
  {
   "cell_type": "code",
   "execution_count": 144,
   "metadata": {},
   "outputs": [
    {
     "name": "stdout",
     "output_type": "stream",
     "text": [
      "calculating mean distance and std\n"
     ]
    },
    {
     "name": "stderr",
     "output_type": "stream",
     "text": [
      "100%|██████████| 392/392 [00:56<00:00,  6.95it/s]\n"
     ]
    }
   ],
   "source": [
    "eval_dist_w_std = dict()\n",
    "eval_dist_mean = dict()\n",
    "# keep track of all query/ec dist std for future ranking\n",
    "all_dist_std = []\n",
    "# calculate distance map with standard deviation\n",
    "print(\"calculating mean distance and std\")\n",
    "for query in  tqdm(eval_dist_lst[0].keys()):\n",
    "    dist_mean_std = dict()\n",
    "    dist_mean_dict = dict()\n",
    "    # get the ec/distance dictionary\n",
    "    for ec in eval_dist_lst[0][query]:\n",
    "        # find distances for this query/ec pair for these models\n",
    "        all_dist_per_ec = []\n",
    "        for i in range(args_N_models):\n",
    "            all_ec_dist_per_query = eval_dist_lst[i][query] \n",
    "            dist_i = all_ec_dist_per_query[ec]\n",
    "            all_dist_per_ec.append(dist_i)\n",
    "        dist_mean = np.mean(all_dist_per_ec)\n",
    "        dist_std = np.std(all_dist_per_ec)\n",
    "        all_dist_std.append(dist_std)\n",
    "        dist_mean_std[ec] = (dist_mean, dist_std)\n",
    "        dist_mean_dict[ec] = dist_mean\n",
    "    eval_dist_w_std[query] = dist_mean_std\n",
    "    eval_dist_mean[query] = dist_mean_dict\n"
   ]
  },
  {
   "cell_type": "code",
   "execution_count": 145,
   "metadata": {},
   "outputs": [
    {
     "name": "stderr",
     "output_type": "stream",
     "text": [
      "100%|██████████| 392/392 [00:00<00:00, 3563.59it/s]\n"
     ]
    }
   ],
   "source": [
    "# get max sep prediction results for all models\n",
    "certainty_from_all_dist_lst = []\n",
    "certainty_from_dist_in_pred_lst = []\n",
    "all_std_in_pred_lst = []\n",
    "dist_map_df = pd.DataFrame.from_dict(eval_dist_mean); \n",
    "first_grad=True; use_max_grad=False\n",
    "# get predictions\n",
    "query_prediction_lst = []\n",
    "for query in tqdm(dist_map_df.columns):\n",
    "    smallest_10_dist_df = dist_map_df[query].nsmallest(10)\n",
    "    dist_lst = list(smallest_10_dist_df)\n",
    "    max_sep_i = maximum_separation(dist_lst, first_grad, use_max_grad)\n",
    "    predictions = []\n",
    "    for i in range(max_sep_i+1):\n",
    "        EC_i = smallest_10_dist_df.index[i]\n",
    "        dist_i = smallest_10_dist_df[i]\n",
    "        predictions.append((EC_i, dist_i))\n",
    "        _, dist_std = eval_dist_w_std[query][EC_i]\n",
    "        # keep track of all dist std appeared in prediction\n",
    "        all_std_in_pred_lst.append(dist_std)\n",
    "        #print(query, EC_i, dist_std, perc_certainty)\n",
    "    query_prediction_lst.append((query, predictions))"
   ]
  },
  {
   "cell_type": "code",
   "execution_count": null,
   "metadata": {},
   "outputs": [],
   "source": [
    "# subset queries into bins by certainty\n",
    "args_N_bins = 8\n",
    "bins_query_by_certainty = [[] for i in range(args_N_bins)]\n",
    "#\n",
    "query_count = 0\n",
    "for query in tqdm(dist_map_df.columns):\n",
    "    smallest_10_dist_df = dist_map_df[query].nsmallest(10)\n",
    "    dist_lst = list(smallest_10_dist_df)\n",
    "    max_sep_i = maximum_separation(dist_lst, first_grad, use_max_grad)\n",
    "    # bin by minimum certainty\n",
    "    certainty_per_query = []\n",
    "    for i in range(max_sep_i+1):\n",
    "        EC_i = smallest_10_dist_df.index[i]\n",
    "        dist_i = smallest_10_dist_df[i]\n",
    "        predictions.append((EC_i, dist_i))\n",
    "        _, dist_std = eval_dist_w_std[query][EC_i]\n",
    "        # certainty by all distance std in distance map\n",
    "        perc_certainty = 1 - stats.percentileofscore(\n",
    "            all_dist_std, dist_std, 'rank')/100\n",
    "        certainty_from_all_dist_lst.append(perc_certainty)\n",
    "        # certainty by all distance std in prediction\n",
    "        perc_certainty_in_pred = 1 - stats.percentileofscore(\n",
    "            all_std_in_pred_lst, dist_std, 'rank')/100\n",
    "        certainty_from_dist_in_pred_lst.append(perc_certainty_in_pred)\n",
    "        ###################################\n",
    "        #certainty_per_query.append(perc_certainty) # perc method 1)\n",
    "        certainty_per_query.append(perc_certainty_in_pred) # perc method 2)\n",
    "    min_certainty_query = min(certainty_per_query)\n",
    "    for bin_i in range(args_N_bins):\n",
    "        lower, upper = bin_i/args_N_bins, (bin_i+1)/args_N_bins\n",
    "        if min_certainty_query >= lower and min_certainty_query < upper:\n",
    "            bins_query_by_certainty[bin_i].append(query_count)\n",
    "            #print(\"bin_i:\", bin_i)\n",
    "    query_count += 1"
   ]
  },
  {
   "cell_type": "code",
   "execution_count": 160,
   "metadata": {},
   "outputs": [],
   "source": [
    "# make bins cumulative\n",
    "cumulative_bins = [[] for i in range(args_N_bins)]\n",
    "for i in range(len(bins_query_by_certainty)):\n",
    "    for ii in range(i+1):\n",
    "        cumulative_bins[i] += bins_query_by_certainty[ii]"
   ]
  },
  {
   "cell_type": "code",
   "execution_count": 161,
   "metadata": {},
   "outputs": [
    {
     "name": "stdout",
     "output_type": "stream",
     "text": [
      "bin 0 0.43617021276595747\n",
      "bin 1 0.4249249249249249\n",
      "bin 2 0.42781316348195325\n",
      "bin 3 0.4419265167996132\n",
      "bin 4 0.46718811491538764\n",
      "bin 5 0.4576519423558897\n",
      "bin 6 0.4848388380421807\n",
      "bin 7 0.5132367227257738\n",
      "bin 8 0.5539979068550498\n",
      "bin 9 0.5791165704187573\n"
     ]
    }
   ],
   "source": [
    "# write the top 10 closest EC to _top10.csv\n",
    "out_filename = './eval/' + args_test_data\n",
    "# _ = write_top10_choices(eval_df, out_filename)\n",
    "# maximum separation results\n",
    "write_max_sep_choices(dist_map_df, out_filename, first_grad=True, use_max_grad=False)\n",
    "# get preds and true labels\n",
    "pred_label = get_pred_labels(out_filename, pred_type='_maxsep')\n",
    "pred_probs = get_pred_probs(out_filename, pred_type='_maxsep')\n",
    "true_label, all_label = get_true_labels('./data/'+args_test_data)\n",
    "\n",
    "results_per_bin = []\n",
    "for bin_i in range(args_N_bins):\n",
    "    query_bin = cumulative_bins[bin_i]\n",
    "    pred_label_i = [pred_label[i] for i in query_bin]\n",
    "    pred_probs_i = [pred_probs[i] for i in query_bin]\n",
    "    true_label_i = [true_label[i] for i in query_bin]\n",
    "    all_label_i = set(list(chain.from_iterable(true_label_i)))\n",
    "    # print(pred_label_i, pred_probs_i, true_label_i)\n",
    "    # raise\n",
    "    if (len(query_bin) == 0):\n",
    "        pre = 0\n",
    "    else:\n",
    "        pre, rec, f1, roc, acc = get_eval_metrics_new(\n",
    "            pred_label_i, pred_probs_i, true_label_i, all_label_i)\n",
    "    results_per_bin.append(pre)\n",
    "    print(\"bin\", bin_i, pre)"
   ]
  },
  {
   "cell_type": "code",
   "execution_count": 162,
   "metadata": {},
   "outputs": [
    {
     "data": {
      "text/plain": [
       "Text(0, 0.5, 'cumulative precision')"
      ]
     },
     "execution_count": 162,
     "metadata": {},
     "output_type": "execute_result"
    },
    {
     "data": {
      "image/png": "[encoded data removed]",
      "text/plain": [
       "<Figure size 432x288 with 1 Axes>"
      ]
     },
     "metadata": {
      "needs_background": "light"
     },
     "output_type": "display_data"
    }
   ],
   "source": [
    "from matplotlib import pyplot as plt\n",
    "import numpy as np\n",
    "# Creating dataset\n",
    "results = np.array(results_per_bin)\n",
    "plt.plot([i/args_N_bins for i in range(args_N_bins)], results)\n",
    "plt.xlabel(\"certainty\")\n",
    "plt.ylabel(\"cumulative precision\")"
   ]
  },
  {
   "cell_type": "code",
   "execution_count": 53,
   "metadata": {},
   "outputs": [
    {
     "data": {
      "image/png": "[encoded data removed]",
      "text/plain": [
       "<Figure size 432x288 with 1 Axes>"
      ]
     },
     "metadata": {
      "needs_background": "light"
     },
     "output_type": "display_data"
    },
    {
     "data": {
      "image/png": "[encoded data removed]",
      "text/plain": [
       "<Figure size 432x288 with 1 Axes>"
      ]
     },
     "metadata": {
      "needs_background": "light"
     },
     "output_type": "display_data"
    }
   ],
   "source": [
    "from matplotlib import pyplot as plt\n",
    "import numpy as np\n",
    "# Creating dataset\n",
    "a = np.array(certainty_from_all_dist_lst)\n",
    "b = np.array(certainty_from_dist_in_pred_lst)\n",
    "# Creating histogram\n",
    "fig, ax = plt.subplots()\n",
    "ax.hist(a)\n",
    "# Show plot\n",
    "plt.show()\n",
    "fig, ax = plt.subplots()\n",
    "ax.hist(b)\n",
    "# Show plot\n",
    "plt.show()"
   ]
  }
 ],
 "metadata": {
  "kernelspec": {
   "display_name": "Python 3.8.5 ('base')",
   "language": "python",
   "name": "python3"
  },
  "language_info": {
   "codemirror_mode": {
    "name": "ipython",
    "version": 3
   },
   "file_extension": ".py",
   "mimetype": "text/x-python",
   "name": "python",
   "nbconvert_exporter": "python",
   "pygments_lexer": "ipython3",
   "version": "3.8.5 (default, Sep  3 2020, 21:29:08) [MSC v.1916 64 bit (AMD64)]"
  },
  "orig_nbformat": 4,
  "vscode": {
   "interpreter": {
    "hash": "386218770bb7053658aedbdb94aaaba888065d92b04918111f39a883f4943438"
   }
  }
 },
 "nbformat": 4,
 "nbformat_minor": 2
}
