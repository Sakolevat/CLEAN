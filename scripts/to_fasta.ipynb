{
 "cells": [
  {
   "cell_type": "code",
   "execution_count": 3,
   "metadata": {},
   "outputs": [],
   "source": [
    "import os\n",
    "import csv\n",
    "\n",
    "def csv_to_fasta(csv_name, fasta_name):\n",
    "    csvfile = open(csv_name, 'r')\n",
    "    csvreader = csv.reader(csvfile, delimiter='\\t')\n",
    "    outfile = open(fasta_name, 'w')\n",
    "    for i, rows in enumerate(csvreader):\n",
    "        if i > 0:\n",
    "            outfile.write('>' + rows[0] + '\\n')\n",
    "            outfile.write(rows[2] + '\\n')\n",
    "\n",
    "# csv_name = \"../data/uniref10_test_split_0_curate.csv\"    \n",
    "# fasta_name = \"../data/uniref10_test_split_0_curate.fasta\"       \n",
    "csv_name = \"../data/uniref10_train_split_0.csv\"    \n",
    "fasta_name = \"../data/uniref10_train_split_0.fasta\"  \n",
    "csv_to_fasta(csv_name, fasta_name)"
   ]
  }
 ],
 "metadata": {
  "interpreter": {
   "hash": "386218770bb7053658aedbdb94aaaba888065d92b04918111f39a883f4943438"
  },
  "kernelspec": {
   "display_name": "Python 3.8.5 ('base')",
   "language": "python",
   "name": "python3"
  },
  "language_info": {
   "codemirror_mode": {
    "name": "ipython",
    "version": 3
   },
   "file_extension": ".py",
   "mimetype": "text/x-python",
   "name": "python",
   "nbconvert_exporter": "python",
   "pygments_lexer": "ipython3",
   "version": "3.8.5"
  },
  "orig_nbformat": 4
 },
 "nbformat": 4,
 "nbformat_minor": 2
}
