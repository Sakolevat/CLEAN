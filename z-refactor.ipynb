{
 "cells": [
  {
   "cell_type": "code",
   "execution_count": 2,
   "metadata": {},
   "outputs": [],
   "source": [
    "import torch\n",
    "import time\n",
    "import os\n",
    "import pickle\n",
    "from helper.dataloader import *\n",
    "from helper.model import *\n",
    "from helper.utils import *\n",
    "from helper.losses import *\n",
    "import torch.nn as nn\n",
    "import torch.nn.functional as F\n",
    "from helper.distance_map import get_dist_map\n",
    "import matplotlib.pyplot as plt\n",
    "%matplotlib inline\n",
    "dtype = torch.float32\n",
    "device = torch.device(\"cuda\")"
   ]
  },
  {
   "cell_type": "markdown",
   "metadata": {},
   "source": [
    "#### Split test data by number of EC occurance in train"
   ]
  },
  {
   "cell_type": "code",
   "execution_count": 3,
   "metadata": {},
   "outputs": [],
   "source": [
    "args_train_data = \"uniref10_train_split_0\"\n",
    "args_test_data = \"uniref10_test_split_1_curate\"\n",
    "id_ec_tr, ec_id_dict_tr = get_ec_id_dict('./data/' + args_train_data + '.csv')\n",
    "id_ec_te, ec_id_dict_te = get_ec_id_dict('./data/' + args_test_data + '.csv')\n"
   ]
  },
  {
   "cell_type": "code",
   "execution_count": 4,
   "metadata": {},
   "outputs": [],
   "source": [
    "csv_name = './data/' + args_test_data + '.csv'\n",
    "csv_file = open(csv_name)\n",
    "csvreader = csv.reader(csv_file, delimiter='\\t')\n",
    " \n",
    "n_bins = 5\n",
    "out_writer_lst = []\n",
    "for bin in range(n_bins):\n",
    "    subset_file = './data/subset/' + \\\n",
    "        args_test_data + '_subset' + str(bin) + '.csv'\n",
    "    out_file = open(subset_file, 'w', newline='')\n",
    "    csvwriter = csv.writer(out_file, delimiter='\\t')\n",
    "    out_writer_lst.append(csvwriter)\n",
    "\n",
    "\n",
    "for i, row in enumerate(csvreader):\n",
    "    if i == 0:\n",
    "        for bin in range(n_bins):\n",
    "            out_writer_lst[bin].writerow(row)\n",
    "    else:\n",
    "        true_ec_lst = row[1].split(';')\n",
    "        id_count_lst = [len(ec_id_dict_tr[ec]) for ec in true_ec_lst]\n",
    "        id_count_ec = np.max(id_count_lst)\n",
    "\n",
    "        if id_count_ec >= 2 and id_count_ec < 5:\n",
    "            out_writer_lst[0].writerow(row)\n",
    "        elif id_count_ec >= 5 and id_count_ec < 20:\n",
    "            out_writer_lst[1].writerow(row)\n",
    "        elif id_count_ec >= 20 and id_count_ec < 50:\n",
    "            out_writer_lst[2].writerow(row)\n",
    "        elif id_count_ec >= 50 and id_count_ec < 100:\n",
    "            out_writer_lst[3].writerow(row)\n",
    "        else:\n",
    "            out_writer_lst[4].writerow(row)\n"
   ]
  },
  {
   "cell_type": "markdown",
   "metadata": {},
   "source": [
    "### EC frequency"
   ]
  },
  {
   "cell_type": "code",
   "execution_count": 5,
   "metadata": {},
   "outputs": [],
   "source": [
    "args_train_data = \"uniref100_train_split_0\"\n",
    "args_test_data = \"uniref10_test_split_1_curate\"\n",
    "id_ec_tr, ec_id_dict_tr = get_ec_id_dict('./data/' + args_train_data + '.csv')\n",
    "id_ec_te, ec_id_dict_te = get_ec_id_dict('./data/' + args_test_data + '.csv')\n"
   ]
  },
  {
   "cell_type": "code",
   "execution_count": 6,
   "metadata": {},
   "outputs": [],
   "source": [
    "EC_freq = []\n",
    "for key in ec_id_dict_tr.keys():\n",
    "    per_EC_id_count = len(ec_id_dict_tr[key])\n",
    "    EC_freq.append(per_EC_id_count)"
   ]
  },
  {
   "cell_type": "code",
   "execution_count": 9,
   "metadata": {},
   "outputs": [
    {
     "data": {
      "image/png": "[encoded data removed]",
      "text/plain": [
       "<Figure size 864x432 with 1 Axes>"
      ]
     },
     "metadata": {
      "needs_background": "light"
     },
     "output_type": "display_data"
    }
   ],
   "source": [
    "fig = plt.figure(figsize=(12, 6))\n",
    "_ = plt.hist(EC_freq, bins=30)\n",
    "_ = plt.yscale('log')\n",
    "_ = plt.xticks(np.arange(0, 6200, 500)) "
   ]
  },
  {
   "cell_type": "markdown",
   "metadata": {},
   "source": [
    "### multiple postive multiple negative dataset/dataloader"
   ]
  },
  {
   "cell_type": "code",
   "execution_count": 3,
   "metadata": {},
   "outputs": [],
   "source": [
    "n_pos = 9; n_neg = 20\n",
    "def get_dataloader(dist_map, id_ec, ec_id, args):\n",
    "    params = {\n",
    "        'batch_size': 5000,\n",
    "        'shuffle': True,\n",
    "    }\n",
    "    negative = mine_hard_negative(dist_map, 50)\n",
    "    train_data = MultiPosNeg_dataset_with_mine_EC(\n",
    "        id_ec, ec_id, negative, n_pos, n_neg)\n",
    "    train_loader = torch.utils.data.DataLoader(train_data, **params)\n",
    "    return train_loader\n"
   ]
  },
  {
   "cell_type": "code",
   "execution_count": null,
   "metadata": {},
   "outputs": [],
   "source": [
    "args_train_data = \"uniref10_train_split_1\"\n",
    "args_hidden_dim = 512\n",
    "args_out_dim = 128\n",
    "id_ec, ec_id_dict = get_ec_id_dict('./data/' + args_train_data + '.csv')\n",
    "ec_id = {key: list(ec_id_dict[key]) for key in ec_id_dict.keys()}\n",
    "model = LayerNormNet(args_hidden_dim, args_out_dim, device, dtype)\n",
    "checkpoint = torch.load('./model/uniref10_split1_final.pth')\n",
    "dist_map = pickle.load(\n",
    "    open('./data/distance_map/uniref10_train_split_1.pkl', 'rb'))\n",
    "args = []\n",
    "train_loader = get_dataloader(dist_map, id_ec, ec_id, args)\n"
   ]
  },
  {
   "cell_type": "code",
   "execution_count": 9,
   "metadata": {},
   "outputs": [
    {
     "name": "stdout",
     "output_type": "stream",
     "text": [
      "number of pos: 9 ; number of neg: 20\n",
      "size of one batch: torch.Size([4223, 30, 1280])\n"
     ]
    }
   ],
   "source": [
    "for batch, data in enumerate(train_loader):\n",
    "    print(\"number of pos:\", n_pos, \"; number of neg:\", n_neg)\n",
    "    print(\"size of one batch:\", data.size())\n",
    "    break"
   ]
  },
  {
   "cell_type": "markdown",
   "metadata": {},
   "source": [
    "### N-pair loss"
   ]
  },
  {
   "cell_type": "code",
   "execution_count": 2,
   "metadata": {},
   "outputs": [
    {
     "name": "stdout",
     "output_type": "stream",
     "text": [
      "loss is: 6.433290481567383\n",
      "the grad of fc1 layer is: tensor([[-4.8914e-03, -2.0231e-03,  4.1318e-03,  ..., -1.6695e-03,\n",
      "          1.7229e-03, -2.7476e-03],\n",
      "        [ 1.0904e-02, -1.3277e-02, -3.2206e-03,  ..., -1.7161e-03,\n",
      "         -2.7405e-03, -7.5002e-03],\n",
      "        [-3.0050e-03, -6.1143e-03, -3.8868e-03,  ...,  1.4125e-03,\n",
      "          7.5213e-03,  6.8182e-03],\n",
      "        ...,\n",
      "        [ 4.4915e-03,  7.5347e-03, -3.2780e-03,  ...,  4.0461e-05,\n",
      "          3.3811e-03, -7.3777e-03],\n",
      "        [ 4.0005e-03, -3.6585e-03, -3.7010e-03,  ..., -8.1621e-03,\n",
      "         -5.8130e-04, -1.2024e-03],\n",
      "        [-3.7205e-03, -1.0952e-03, -5.4550e-03,  ..., -4.0717e-04,\n",
      "          3.1118e-04,  9.3065e-03]], device='cuda:0')\n"
     ]
    }
   ],
   "source": [
    "seed_everything()\n",
    "args_hidden_dim = 512\n",
    "args_out_dim = 128\n",
    "model = LayerNormNet(args_hidden_dim, args_out_dim, device, dtype)\n",
    "checkpoint = torch.load('./model/uniref10_split1_final.pth')\n",
    "model.zero_grad()\n",
    "# the input to the model will be of size [bsz, (1+n_pos+n_neg), 1280]\n",
    "n_pos = 1; n_neg = 30; bsz = 400; temp = 0.1\n",
    "n_all = 1 + n_pos + n_neg\n",
    "dummy_input = torch.randn(bsz, n_all, 1280).to(device, dtype)\n",
    "model_emb = model(dummy_input)\n",
    "loss = NPairLoss(model_emb, temp)\n",
    "loss.backward()\n",
    "print(\"loss is:\", loss.item())\n",
    "print(\"the grad of fc1 layer is:\", model.fc1.weight.grad)"
   ]
  },
  {
   "cell_type": "markdown",
   "metadata": {},
   "source": [
    "### SupCon Loss"
   ]
  },
  {
   "cell_type": "code",
   "execution_count": 3,
   "metadata": {},
   "outputs": [
    {
     "name": "stdout",
     "output_type": "stream",
     "text": [
      "loss is: 6.3981146812438965\n",
      "the grad of fc1 layer is: tensor([[-0.0002,  0.0006, -0.0036,  ..., -0.0042,  0.0003,  0.0011],\n",
      "        [ 0.0089, -0.0080,  0.0055,  ..., -0.0009,  0.0020,  0.0026],\n",
      "        [ 0.0008, -0.0011,  0.0004,  ...,  0.0025,  0.0010,  0.0015],\n",
      "        ...,\n",
      "        [ 0.0014, -0.0014,  0.0008,  ..., -0.0012, -0.0020, -0.0017],\n",
      "        [-0.0009,  0.0002, -0.0023,  ..., -0.0014,  0.0006, -0.0015],\n",
      "        [-0.0046,  0.0005,  0.0002,  ..., -0.0016, -0.0012, -0.0003]],\n",
      "       device='cuda:0')\n"
     ]
    }
   ],
   "source": [
    "seed_everything()\n",
    "args_hidden_dim = 512\n",
    "args_out_dim = 128\n",
    "model = LayerNormNet(args_hidden_dim, args_out_dim, device, dtype)\n",
    "checkpoint = torch.load('./model/uniref10_split1_final.pth')\n",
    "model.zero_grad()\n",
    "# the input to the model will be of size [bsz, (1+n_pos+n_neg), 1280]\n",
    "n_pos = 10; n_neg = 30; bsz = 400; temp = 0.1\n",
    "n_all = 1 + n_pos + n_neg\n",
    "dummy_input = torch.randn(bsz, n_all, 1280).to(device, dtype)\n",
    "model_emb = model(dummy_input)\n",
    "loss = SupConHardLoss(model_emb, temp, n_pos)\n",
    "loss.backward()\n",
    "print(\"loss is:\", loss.item())\n",
    "print(\"the grad of fc1 layer is:\", model.fc1.weight.grad)"
   ]
  }
 ],
 "metadata": {
  "interpreter": {
   "hash": "386218770bb7053658aedbdb94aaaba888065d92b04918111f39a883f4943438"
  },
  "kernelspec": {
   "display_name": "Python 3.8.5 ('base')",
   "language": "python",
   "name": "python3"
  },
  "language_info": {
   "codemirror_mode": {
    "name": "ipython",
    "version": 3
   },
   "file_extension": ".py",
   "mimetype": "text/x-python",
   "name": "python",
   "nbconvert_exporter": "python",
   "pygments_lexer": "ipython3",
   "version": "3.8.5"
  },
  "orig_nbformat": 4
 },
 "nbformat": 4,
 "nbformat_minor": 2
}
